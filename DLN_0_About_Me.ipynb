{
 "cells": [
  {
   "cell_type": "markdown",
   "metadata": {
    "slideshow": {
     "slide_type": "slide"
    }
   },
   "source": [
    "# <font color = 'green'>'Delroy Meyer - (Future) Engineer | Materials Characterization Group at Convergent' <font>\n",
    "\n",
    "#### *<font color = 'blue'> An Interactive Notebook to showcase how I can add value to the Materials Characterizaton team and 'nudge' your decision to interview (and hopefully hire) me!<font>*<a class=\"tocSkip\">\n",
    "\n",
    "* Press ```Alt+r``` to start the slideshow\n",
    "* Press ```Spacebar``` to toggle the slides forward\n",
    "* Press ```Shift``` + ```Spacebar``` to toggle the slides backwards"
   ]
  },
  {
   "cell_type": "markdown",
   "metadata": {},
   "source": [
    "# DLN Contents\n",
    "\n",
    "0. [Materials Characterization Laboratory DLN | A Showcase for Convergent Manufacturing Group Ltd](Materials Characterization Laboratory DLN - A Showcase for Convergent Manufacturing Group Ltd.ipynb) - An 'Welcome' message to the Convergent Manufacturing - Materials Characterization Group, explaining the concept of these DLN entries, why I made them out of interest for the team's *Characterization Lab Technician/Scientist* opening, and presenting a brief 'About Me' StoryMap\n",
    "<br>\n",
    "\n",
    "1. [§1: Structural durability analyses of carbon fibre & epoxy-based composites - Introduction](DLN - §1 - Structural durability analyses of carbon fibre & epoxy-based composites - Introduction.ipynb) - An introduction to the quasi-fatigue experiments performed on carbon fibre/epoxy composite specimens.\n",
    "<br>\n",
    "\n",
    "2. [§2: Structural durability analyses of carbon fibre & epoxy-based composites - Laminate mechanics theory](DLN - §2 - Structural durability analyses of carbon fibre & epoxy-based composites - Theory.ipynb) - A discussion of composite laminate theory, as a basis for performing stress-strain-deformation calculations to characterize the structural durability of composite laminate layups.\n",
    "<br>\n",
    "\n",
    "3. [§3: Structural durability analyses of carbon fibre & epoxy-based composites - Experimental results](DLN - §3 - Structural durability analyses of carbon fibre & epoxy-based composites - Experimental.ipynb) - Using Python scientific programming libraries to explore and visualize quasi-fatigue tensile & compressive loading experiments on carbon fibre/epoxy composite test coupons.\n",
    "<br>\n",
    "\n",
    "4. [§4: Structural durability analyses of carbon fibre & epoxy-based composites - Matrix calculations](DLN - §2 - Structural durability analyses of carbon fibre & epoxy-based composites - Calculations.ipynb) - Using MATLAB to perform structural durability matrix calculations from carbon fibre/epoxy composite test coupon experimental data."
   ]
  },
  {
   "cell_type": "markdown",
   "metadata": {
    "slideshow": {
     "slide_type": "subslide"
    }
   },
   "source": [
    "# Purpose of this interactive notebook\n",
    "Hi Alastair, Martin, Convergent & Co.! I've created this digital notebook as a supplement to my application package for the [Characterization Lab Technician/Scientist](https://www.indeed.ca/cmp/Convergent-Manufacturing-Techn/jobs/Characterization-Lab-Technician-Scientist-196df99b0a902fca?q=materials+engineer&vjs=3) opening. \n",
    "\n",
    "I wanted a fun way to show you, and the Materials Characterization Group at Convergent, that I'm the type of self-motivated, hands-on, detail oriented individual that would add value to your group and to the Convergent business; moreover, I believe that this particular role is one in which I can make a strong impact in."
   ]
  },
  {
   "cell_type": "markdown",
   "metadata": {
    "slideshow": {
     "slide_type": "slide"
    }
   },
   "source": [
    "# The 'Interactive DLN' concept\n",
    "This 'notebook concept' is a spin-off idea from a (proprietary) digital laboratory notebook (DLN) that I created for my master thesis project with [nanoleq AG](www.nanoleq.com), the [ETH Zürich Laboratory of Biosensors and Bioelectronics](http://www.lbb.ethz.ch/research.html) and the [JKU Linz Institute for Polymer Materials and Testing](https://www.jku.at/en/institute-of-polymeric-materials-and-testing/research/)."
   ]
  },
  {
   "cell_type": "markdown",
   "metadata": {
    "slideshow": {
     "slide_type": "subslide"
    }
   },
   "source": [
    "# The 'Interactive DLN' concept <a class=\"tocSkip\">\n",
    "About a week into my thesis project work, I quickly abandoned recording experimental data and observations in the paper laboratory notebook given to me. \n",
    "\n",
    "Under the mentorship of my principle thesis advisor, who had performed extensive experimental data recording, observation archiving and subsequent data analytics/visualization computing in Python/R programming environments during his PhD, I quickly adopted a similar method to manage my experiments."
   ]
  },
  {
   "cell_type": "markdown",
   "metadata": {
    "slideshow": {
     "slide_type": "subslide"
    }
   },
   "source": [
    "# The 'Interactive DLN' concept <a class=\"tocSkip\">\n",
    "I created an interactive digital laboratory notebook, where I could: \n",
    "\n",
    "**1. Effectively archive my experimental data, observations and procedures**"
   ]
  },
  {
   "cell_type": "markdown",
   "metadata": {
    "slideshow": {
     "slide_type": "fragment"
    }
   },
   "source": [
    "* Import standardized test procedures and record how I executed the test procedures (reproducibility) \n",
    "* Ensure the systematic archival and organization of all experimental runs performed\n",
    "* Assign and apply data-type attributes to independent/dependent physico-chemical variables, to apply object oriented programming routines thereafter"
   ]
  },
  {
   "cell_type": "markdown",
   "metadata": {
    "slideshow": {
     "slide_type": "subslide"
    }
   },
   "source": [
    "# The 'Interactive DLN' concept <a class=\"tocSkip\">\n",
    "I created an interactive digital laboratory notebook, where I could: \n",
    "\n",
    "**2. Make use of powerful Python, R and MATLAB libraries, in an interactive computing environment to:**"
   ]
  },
  {
   "cell_type": "markdown",
   "metadata": {
    "slideshow": {
     "slide_type": "fragment"
    }
   },
   "source": [
    "* Perform data analyses on my experimental observations\n",
    "* Create powerful data visualization graphics (both static and interactive)\n",
    "* Conduct interactive presentations with my thesis supervisors and company team members"
   ]
  },
  {
   "cell_type": "markdown",
   "metadata": {
    "slideshow": {
     "slide_type": "slide"
    }
   },
   "source": [
    "# Polymer and composite materials testing & characterization 'Portfolio'\n",
    "I've gone ahead and created a small 'portfolio of sorts' of select material characterization projects that I've conducted during my graduate education. Use the 'DLN Contents' navigation page, to access specific projects, on the following slide."
   ]
  },
  {
   "cell_type": "markdown",
   "metadata": {
    "slideshow": {
     "slide_type": "slide"
    }
   },
   "source": [
    "# Material testing & characterization 'DLN Contents'\n",
    "\n",
    "1. [Quasi-static fatigue experiments for carbon fibre/epoxy composite structural durability analyses](Structural durability analyses of carbon fibre & epoxy-based composites - DLN - Experimental.ipynb). Showcases the LEFM stress-strain theory for composite laminates. Utilizes the powerful scientific and data visualization packages in Python to data-mine tensile and compression experiment data collected for 0°, 90°, 45° and ±45° multi-ply carbon fibre/epoxy coupons. Presents a framework for creating a DLN for composite laboratory testing and characterization.\n",
    "\n",
    "    1.1. [Matrix calculations for carbon fibre/epoxy composite structural durability analyses](Structural durability analyses of carbon fibre & epoxy-based composites - DLN - Calculations.ipynb). Showcases the flexibility of using the Jupyter Notebook environment for multi-language scientific computing - utilizes MATLAB to perform compliance and stiffness matrix calculations to perform structural durability profiling of experiment carbon fibre/epoxy laminate coupons.\n",
    "\n",
    "2. [](). Dynamic mechanical analyses of conditioned fiber-reinforced thermoplastic and thermoset materials\n",
    "\n",
    "3. [](). DSC and TGA analyses of reference thermoplastic materials for comparison with proprietary thermoplastic formulations\n",
    "\n",
    "4. [](). Advanced spectroscopy analyses of 3-layer greenhouse films to determine anti-block additive film surface migration"
   ]
  },
  {
   "cell_type": "markdown",
   "metadata": {
    "slideshow": {
     "slide_type": "slide"
    }
   },
   "source": [
    "# Getting to know more about me\n",
    "I've created a 'StoryMap' of my professional, academic and cultural development over the past 5 years, so you can get a better sense of who I am and how my personality might fit in with your team's personalities. Navigate the StoryMap to find out a bit more about me and invite me for an interview to meet me in person \n",
    "\n",
    "(*Exit the SlideShow to get a better view of the StoryMap in the Jupyter DLN, or click [here](https://uploads.knightlab.com/storymapjs/2e0e49870f3e1b20bcc6405a8e568761/a-journey-through-the-progression-of-my-profession/index.html) to view it in your browser*)"
   ]
  },
  {
   "cell_type": "code",
   "execution_count": 5,
   "metadata": {
    "slideshow": {
     "slide_type": "fragment"
    }
   },
   "outputs": [
    {
     "data": {
      "text/html": [
       "\n",
       "        <iframe\n",
       "            width=\"800\"\n",
       "            height=\"600\"\n",
       "            src=\"https://uploads.knightlab.com/storymapjs/2e0e49870f3e1b20bcc6405a8e568761/a-journey-through-the-progression-of-my-profession/index.html\"\n",
       "            frameborder=\"0\"\n",
       "            allowfullscreen\n",
       "        ></iframe>\n",
       "        "
      ],
      "text/plain": [
       "<IPython.lib.display.IFrame at 0x1050aef98>"
      ]
     },
     "execution_count": 5,
     "metadata": {},
     "output_type": "execute_result"
    }
   ],
   "source": [
    "from IPython.display import IFrame\n",
    "\n",
    "IFrame(src='https://uploads.knightlab.com/storymapjs/2e0e49870f3e1b20bcc6405a8e568761/a-journey-through-the-progression-of-my-profession/index.html', width=800, height=600)"
   ]
  },
  {
   "cell_type": "markdown",
   "metadata": {
    "heading_collapsed": true,
    "slideshow": {
     "slide_type": "notes"
    }
   },
   "source": [
    "# Maintaining a laboratory notebook - Why go digital? <a class=\"tocSkip\">"
   ]
  },
  {
   "cell_type": "markdown",
   "metadata": {
    "hidden": true,
    "slideshow": {
     "slide_type": "notes"
    }
   },
   "source": [
    "## Open-Source (Python & Jupyter Notebook) DLN vs. Proprietary DLN Software? <a class=\"tocSkip\">\n",
    "\n",
    "* Jupyter - Interactive omputer programming environment, compatible with many programming languages including Python, R, Julia, PHP, MATLAB, Mathematica | [Jupyter Kernels for Programming Languages](https://github.com/jupyter/jupyter/wiki/Jupyter-kernels)\n",
    "\n",
    "### Pros and Cons of OS-DLN vs. P-DLN <a class=\"tocSkip\">\n",
    "\n",
    "| DLN Attribute | OS-DLN | P-DLN |\n",
    "| ----------- | ----------- | ----------- |\n",
    "| Security | Title | Title |\n",
    "| Price | Text | Text |\n",
    "| Build Effort | Text | Text |\n",
    "| Customization | Text | Text |\n",
    "| Data Storage | Text | Text |\n",
    "| Server requirements | Text | Text |\n",
    "| Search functionality | Text | Text |\n",
    "\n",
    "\n",
    "## The 'Experiment Reproducibility' Problem <a class=\"tocSkip\">\n",
    "\n",
    "* Retrieval of experimental data - \n",
    "* Archiving of experimental data:\n",
    "    * Electronic archival (document control) system to store DLN, relevant experimental data files in centralized server (Cloud computing options, local server options)\n",
    "* 'Standardized' recording of experimental results & observations\n",
    "* Quick reference links to electronic resources:\n",
    "    * Experimental E-SOPs\n",
    "    * Academic papers\n",
    "    * Simulation results in  ABAQUS (Python Scripting), COMPRO, RAVEN\n",
    "    * Material models\n",
    "* Knowledge transfer and record keeping\n",
    "\n",
    "## Data visualization <a class=\"tocSkip\">\n",
    "\n",
    "* *'Reporting results to engineers and management using Microsoft Word and Excel'* - is there a better way?\n",
    "* Data visualization + presentation of experimental results, all done from DLN platform\n",
    "\n",
    "## *Continue* <a class=\"tocSkip\">"
   ]
  },
  {
   "cell_type": "markdown",
   "metadata": {
    "heading_collapsed": true,
    "slideshow": {
     "slide_type": "notes"
    }
   },
   "source": [
    "# Data Creation & Retrieval with OS-DLN <a class=\"tocSkip\">"
   ]
  },
  {
   "cell_type": "markdown",
   "metadata": {
    "hidden": true,
    "slideshow": {
     "slide_type": "notes"
    }
   },
   "source": [
    "The OS-DLN must be able to create, import, store and retrieve all important data types in digital format, such as:\n",
    "\n",
    "## 1. Text processors <a class=\"tocSkip\">\n",
    "* WYSIWYG - MS Word | [Jupyter notebook extension for exporting notebook as MS Word doc](https://github.com/innovationOUtside/nb_extension_wordexport)\n",
    "    * Import MS Word documents to P-DLN | [extract data from MS Word Documents using Python](https://towardsdatascience.com/how-to-extract-data-from-ms-word-documents-using-python-ed3fbb48c122)\n",
    "    \n",
    "## 2. Spreadsheet tool <a class=\"tocSkip\">\n",
    "\n",
    "Allows you to create tables, enter and format data, perform calculations and create graphs within the ELN, as well as import from and export to Excel:\n",
    "\n",
    "* Import Excel and CSV Formats (.xls, .xlsx, .csv) to DLN | [Python Excel Tutorial: The Definitive Guide](https://www.datacamp.com/community/tutorials/python-excel-tutorial)\n",
    "* Import Google Sheets to DLN | [Google Sheets + Python](https://www.twilio.com/blog/2017/02/an-easy-way-to-read-and-write-to-a-google-spreadsheet-in-python.html)\n",
    "\n",
    "## 3. Images <a class=\"tocSkip\">\n",
    "\n",
    "The OS-DLN requires the capability to import images and add annotations, keeping in mind the following:\n",
    "* Large file sizes: SEM/TEM microscopic images require large storage space in the OS-DLN and robust computing power to render the images in the OS-DLN for all use-cases (DLN editing, presentations)\n",
    "* Images must not effect/impact data recording and data analyses\n",
    "\n",
    "## 4. Mobile/tablet Apps (nice to have) <a class=\"tocSkip\">\n",
    "\n",
    "Mobile and tablet apps, as well as responsive design, allowing researchers to use their preferred device to record their experiment notes\n",
    "\n",
    "## 5. Search functionality <a class=\"tocSkip\">\n",
    "\n",
    "The OS-DLN requires simple, effective and sophisticated search functionality, allowing you to retrieve your data by author, tag, unique ID, textual content, timestamp, and/or structured data query (fast keyword search capabillities, Experimental tag ID fast retrieval, etc.). One should be able to find the desired research data in seconds. Archival documentation system should allow 'Quick Reference' to pin-point search 'keywords'."
   ]
  },
  {
   "cell_type": "markdown",
   "metadata": {
    "heading_collapsed": true,
    "slideshow": {
     "slide_type": "notes"
    }
   },
   "source": [
    "# Data storage <a class=\"tocSkip\">"
   ]
  },
  {
   "cell_type": "markdown",
   "metadata": {
    "hidden": true,
    "slideshow": {
     "slide_type": "notes"
    }
   },
   "source": [
    "The OS-DLN must have a secure, robust, well-resourced data storage system in-place. There are basically two categories of solutions:\n",
    "\n",
    "1. Cloud-computing solutions\n",
    "2. On-premises, self-hosted servers\n",
    "\n",
    "For materials characterization purposes, the data storage warehousing of DLNs must also be able to securely and efficiently store all related/integrated data files of different types, such as:\n",
    "\n",
    "* Simulation models (ex. experimental validation models: ABAQUS/SolidWorks, COMPRO, RAVEN, COMSOL)\n",
    "* Experimental data records (Excel, CSV, Google Sheets, Plain Text)\n",
    "* Text processing records (MS Word, Plain Text)\n",
    "* Literature review (PDF, EPUB, interactive HTML)\n",
    "* Material models (MATLAB, Python, React JS, R)\n",
    "\n",
    "## Cloud-hosted data storage <a class=\"tocSkip\">\n",
    "\n",
    "* Store all DLN entries and related related/integrated data files on cloud server\n",
    "* Common (secure) cloud server options:\n",
    "    * Amazon Web Services\n",
    "    * Microsoft Azure\n",
    "\n",
    "### Advantages of cloud-based solutions <a class=\"tocSkip\">\n",
    "\n",
    "* No setup costs\n",
    "* No (on-going) maintenance costs or resources required\n",
    "* No administration costs\n",
    "* Integrated cloud-computing environment - access content anywhere/anytime a functional Internet connection is available\n",
    "* Solution providers work to ensure minimal 'down time'\n",
    "\n",
    "### Disadvantages of cloud-based solutions <a class=\"tocSkip\">\n",
    "\n",
    "* Control of data security and privacy is ultimately handled by the service provider\n",
    "    * Need to be aware of security controls, encryption capabilities, authentication processes\n",
    "* Service depends on fast, reliable LAN/WLAN connectivity\n",
    " \n",
    "\n",
    "## On-premises, self-hosted data storage <a class=\"tocSkip\">\n",
    "\n",
    "* Store all DLN entries and related related/integrated data files on own server\n",
    "\n",
    "### Advantages <a class=\"tocSkip\">\n",
    "\n",
    "* IT-Admin has full control over settings, security protocols, encryption, authentication and document control of all content hosted on server\n",
    "* Server is dedicated solely to own organization and is accessible offline\n",
    "\n",
    "### Disadvantages <a class=\"tocSkip\">\n",
    "\n",
    "* Higher cost of IT resources to setup, maintain and continuously update/improve server hosting\n",
    "    * IT is responsible for reliability, speed, security, service performance, software updates, bug fixes and version control of server\n",
    "    * IT is responsible for document control of all server content\n",
    " \n",
    "\n",
    "## Cloud solution of self-hosting? <a class=\"tocSkip\">\n",
    "The organization’s policy regarding data storage will be the key decision maker here. Large organizations with a big IT department often prefer to have an on-premise solution to be in full control, and are willing to pay extra for that reassurance. Smaller companies and research institutions are generally more willing to take advantage of the capabilities offered by cloud computing, especially those provided by Amazon or Microsoft.\n",
    "\n",
    "## Free cloud solution <a class=\"tocSkip\">\n",
    "\n",
    "* [LabFolder - Free for up to 3 Team Members](https://www.labfolder.com/pricing/industry/)\n",
    "* [LabFolder - The Electronic Lab Notebook in 2019: A comprehensive guide](https://www.labfolder.com/electronic-lab-notebook-eln-research-guide/)"
   ]
  }
 ],
 "metadata": {
  "celltoolbar": "Slideshow",
  "hide_input": false,
  "kernelspec": {
   "display_name": "Python 3",
   "language": "python",
   "name": "python3"
  },
  "language_info": {
   "codemirror_mode": {
    "name": "ipython",
    "version": 3
   },
   "file_extension": ".py",
   "mimetype": "text/x-python",
   "name": "python",
   "nbconvert_exporter": "python",
   "pygments_lexer": "ipython3",
   "version": "3.6.4"
  },
  "latex_envs": {
   "LaTeX_envs_menu_present": true,
   "autoclose": false,
   "autocomplete": true,
   "bibliofile": "biblio.bib",
   "cite_by": "apalike",
   "current_citInitial": 1,
   "eqLabelWithNumbers": true,
   "eqNumInitial": 1,
   "hotkeys": {
    "equation": "Ctrl-E",
    "itemize": "Ctrl-I"
   },
   "labels_anchors": false,
   "latex_user_defs": false,
   "report_style_numbering": false,
   "user_envs_cfg": false
  },
  "rise": {
   "enable_chalkboard": true
  },
  "toc": {
   "base_numbering": 1,
   "nav_menu": {},
   "number_sections": false,
   "sideBar": true,
   "skip_h1_title": false,
   "title_cell": "Table of Contents",
   "title_sidebar": "Contents",
   "toc_cell": false,
   "toc_position": {
    "height": "calc(100% - 180px)",
    "left": "10px",
    "top": "150px",
    "width": "165px"
   },
   "toc_section_display": true,
   "toc_window_display": false
  }
 },
 "nbformat": 4,
 "nbformat_minor": 2
}
