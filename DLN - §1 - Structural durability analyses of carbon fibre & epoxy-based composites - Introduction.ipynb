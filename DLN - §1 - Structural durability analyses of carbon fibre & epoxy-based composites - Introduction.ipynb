{
 "cells": [
  {
   "cell_type": "markdown",
   "metadata": {
    "slideshow": {
     "slide_type": "slide"
    }
   },
   "source": [
    "# Structural durability analyses for carbon/epoxy laminates\n",
    "\n",
    "## §1: Introduction"
   ]
  },
  {
   "cell_type": "markdown",
   "metadata": {},
   "source": [
    "# DLN Contents\n",
    "\n",
    "0. [Materials Characterization Laboratory DLN | A Showcase for Convergent Manufacturing Group Ltd](Materials Characterization Laboratory DLN - A Showcase for Convergent Manufacturing Group Ltd.ipynb) - An 'Welcome' message to the Convergent Manufacturing - Materials Characterization Group, explaining the concept of these DLN entries, why I made them out of interest for the team's *Characterization Lab Technician/Scientist* opening, and presenting a brief 'About Me' StoryMap\n",
    "<br>\n",
    "\n",
    "1. [§1: Structural durability analyses of carbon fibre & epoxy-based composites - Introduction](DLN - §1 - Structural durability analyses of carbon fibre & epoxy-based composites - Introduction.ipynb) - An introduction to the quasi-fatigue experiments performed on carbon fibre/epoxy composite specimens.\n",
    "<br>\n",
    "\n",
    "2. [§2: Structural durability analyses of carbon fibre & epoxy-based composites - Laminate mechanics theory](DLN - §2 - Structural durability analyses of carbon fibre & epoxy-based composites - Theory.ipynb) - A discussion of composite laminate theory, as a basis for performing stress-strain-deformation calculations to characterize the structural durability of composite laminate layups.\n",
    "<br>\n",
    "\n",
    "3. [§3: Structural durability analyses of carbon fibre & epoxy-based composites - Experimental results](DLN - §3 - Structural durability analyses of carbon fibre & epoxy-based composites - Experimental.ipynb) - Using Python scientific programming libraries to explore and visualize quasi-fatigue tensile & compressive loading experiments on carbon fibre/epoxy composite test coupons.\n",
    "<br>\n",
    "\n",
    "4. [§4: Structural durability analyses of carbon fibre & epoxy-based composites - Matrix calculations](DLN - §2 - Structural durability analyses of carbon fibre & epoxy-based composites - Calculations.ipynb) - Using MATLAB to perform structural durability matrix calculations from carbon fibre/epoxy composite test coupon experimental data."
   ]
  },
  {
   "cell_type": "markdown",
   "metadata": {},
   "source": [
    "# 0. DLN Introduction\n",
    "\n",
    "This digital laboratory notebook (DLN) is comprised of four linked entries that are listed in the DLN contents section above. The DLN provides a comprehensive platform that:\n",
    "\n",
    "* Discuss composite fatigue and pertinent composite mechanics theory\n",
    "* Provide an overview of tensile and compression quasi-static fatigue tests performed on carbon fibre/epoxy composite laminate coupons with varying fibre orientations and ply layers\n",
    "* Provides a scientific computing platform to utilize tensile & compressive quasi-static fatigue experiment data for:\n",
    "    * Stress-strain data visualization\n",
    "    * Statistical data analyses\n",
    "    * Store empirically-determined elastic properties of the tested composite coupons for structural durability calculations\n",
    "    * Perform matrix calculations to quantify the structural durability of the tested composite laminate coupons materials"
   ]
  },
  {
   "cell_type": "markdown",
   "metadata": {
    "slideshow": {
     "slide_type": "notes"
    }
   },
   "source": [
    "## I. Experiment log\n",
    "* **Date of experiment**: 10.14.2017\n",
    "* **Principle investigator**: Delroy Meyer, EIT, BASc\n",
    "* **Test operators**: Jürgen Müller, Delroy Meyer, Cintia Oliveria\n",
    "* **Lead investigator**: Prof. Dr-mont. Zoltan Major\n",
    "* **Course**: LVA Nr. 378.029 - 480ADPTPPBV17 - Polymer Product Design and Engineering III - Graduate Seminar\n",
    "* **Location**: Institute of Polymer Materials and Testing (IPMT), JKU Linz - Linz, Austria\n",
    "    * Compounding and specimen preparation Lab: *Composite coupon specimen preparation*\n",
    "    * Mechanical Lab: *Tensile & compression testing*\n",
    "\n",
    "### i. Experiment test (lab) environment conditions\n",
    "*Measurement taken: 10-14-2017 08:45:07*\n",
    "<b>\n",
    "\n",
    "$T_{test} (°C) = 21.23$ (*within* $ 23 ± 3 °C$ *standard laboratory atmosphere range as per ASTM D5229*)\n",
    "<br>\n",
    "$RH (\\%) = 55.7$ (*within* $ 50 ± 10 \\%$ *standard laboratory atmosphere range as per ASTM D5229*)"
   ]
  },
  {
   "cell_type": "markdown",
   "metadata": {},
   "source": [
    "# 1. Purpose of experiment and data analyses\n",
    "These experiments were conducted to investigate the dependency of the structural durability of (high fibre volume fraction) carbon fibre/epoxy laminate composites on fibre orientation. Quasi-static tensile and compressive fatigue tests were performed with unidirectional (UD) carbon/epoxy laminates at angles of 0°, 45° and 90°.\n",
    "\n",
    "## 1.1 Why these investigations are needed\n",
    "1. Short and long-fibre reinforced composites offer advantages over conventional metallic materials for the manufacture of components across many different manufacturing industries (*common examples: aerospace/automotive component manufacture, building materials, sports equipment, chemical process industry components*)\n",
    "    * Polymeric laminated composites, like carbon-fibre/epoxy laminates, present high strength-to-weight and stiffness-to-weight ratios when compared with metallic materials\n",
    "<br>\n",
    "\n",
    "2. To dimension parts undergoing sustained tensile or compressive forces in application, and the material's consequent deformation response, the quasi-fatigue tensile & compressive characterization testing is necessary\n",
    "<br>\n",
    "\n",
    "3. *My personal opinion*: Composite materials design offers, for all practical intents and purposes, virtually limitless options for component design, processing and application-use. Consequently, this mean that, for the foreseeable future, there will be an ongoing need to conduct testing for both existing and novel composite materials design and structural analyses; the evolution of innovation in composite materials development and processing technologies will further expand the scope of testing needed."
   ]
  },
  {
   "cell_type": "markdown",
   "metadata": {},
   "source": [
    "## 1.2 Fatigue mechanics of composite materials - conceptual theory\n",
    "\n",
    "* Due to their inner structure consisting of continuous fibres and matrix material the macroscopic properties of composite materials are anisotropic\n",
    "    * UD-lamina layers, themselves, are considered to be transversely isotropic; on planes parallel with the fibre direction they behave orthotropically and on an imaginary plane perpendicular to the fibre direction they behave isotropically\n",
    "\n",
    "* The interface between the fibre and the matrix resin and its properties influence the performance of the composite as well\n",
    "\n",
    "* When mechanical quasi-static or fatigue loads are applied, a variety of complex damage mechanisms such as matrix microcracking, interfacial fibre/matrix debonding, transverse rupture, fibre rupture or delamination occur on microscopic scale\n",
    "\n",
    "* The properties of unidirectional (UD) composites transverse to fibre direction are generally low. Under fatigue loads, the matrix is subjected to strain-controlled fatigue due to the constraint provided by the fibres\n",
    "\n",
    "* Higher fibre volume fractions increase mechanical properties such as tensile strength and stiffness in fibre direction\n",
    "\n",
    "* The fibres of an CFRPs are what “deliver” its excellent properties but the resin (the matrix) is still required in order to:\n",
    "    * provide a cohesive component\n",
    "    * direct loads into the fibres\n",
    "    * protect the fibres against environmental influences\n",
    "    * prevent the fibres from buckling when subjected to compressive stress\n",
    "    * *However, this means that*: unfortunately stresses will of necessity now arise in the matrix as well, and also at the interface of the fibres and matrix\n"
   ]
  },
  {
   "cell_type": "markdown",
   "metadata": {},
   "source": [
    "## 1.3 Structural durability calculations as part of composite fatigue-life prediction\n",
    "Structural durability calculations constitute 'one piece in the puzzle' of forming a complete fatigue-life prediction model for composite materials. These calculations rely on the following studies:\n",
    "\n",
    "1. An evaluation of the **load-time-history** of the material\n",
    "<br>\n",
    "\n",
    "2. Analyses of the **local anisotropic behaviour** of the material:\n",
    "<br>\n",
    "\n",
    "3. Analyses of the **macroscopic behaviour** of the material:\n",
    "    * quasi-static stress/time investigations:\n",
    "        * data for stress-strain behaviour and strength (elasticity and strength properties)\n",
    "    * cyclic stress/cycle investigations (S-N curves)\n",
    "<br>\n",
    "\n",
    "4. Consideration of **Lamina input variables**:\n",
    "    * lamina thickness\n",
    "    * fibre content\n",
    "    * type and orientation of reinforcement\n",
    "    \n",
    "A visual representation of the full workflow for creating a composite fatigue-life prediction model, provided by Mösenbacher et. al. [1], shows how these studies contribute to the workflow.\n",
    "\n",
    "![Fig.X - Composite material fatigue-life prediction workflow. Ref: Mösenbacher, ECCM16 (2016)](0.Images/CFRP_Fatigue_Predict_Wrkflw.jpg \"Fig.X - Composite material fatigue-life prediction workflow. Ref: Mösenbacher, ECCM16 (2016)\")\n",
    "\n",
    "*<center> Fig. 1 - Complete workflow for developing a composite fatigue-life prediction model (Mösenbacher, ECCM16, 2016)</center>*"
   ]
  },
  {
   "cell_type": "markdown",
   "metadata": {},
   "source": [
    "## 1.4 Data analysis & calculations to be determined from this investigation\n",
    "\n",
    "This DLN will focus on the ***load-time history*** and ***stress-strain*** analysis segments of the **composite fatigue-life prediction model workflow** shown in Figure 1 above.\n",
    "\n",
    "The following results will be presented from the tensile and compressive quasi-static fatigue loading experiment runs performed on carbon fibre/epoxy laminate coupons of various fibre orientations and ply layers:\n",
    "\n",
    "1. Empirical determination of tensile/compressive moduli of elasticity\n",
    "<br>\n",
    "\n",
    "2. Calculation of stress-strain elastic engineering constants to characterize the structural durability of composite materials undergoing long-term static (force) loading in application\n",
    "<br>"
   ]
  }
 ],
 "metadata": {
  "celltoolbar": "Slideshow",
  "hide_input": false,
  "kernelspec": {
   "display_name": "Python 3",
   "language": "python",
   "name": "python3"
  },
  "language_info": {
   "codemirror_mode": {
    "name": "ipython",
    "version": 3
   },
   "file_extension": ".py",
   "mimetype": "text/x-python",
   "name": "python",
   "nbconvert_exporter": "python",
   "pygments_lexer": "ipython3",
   "version": "3.6.4"
  },
  "latex_envs": {
   "LaTeX_envs_menu_present": true,
   "autoclose": false,
   "autocomplete": true,
   "bibliofile": "biblio.bib",
   "cite_by": "apalike",
   "current_citInitial": 1,
   "eqLabelWithNumbers": true,
   "eqNumInitial": 1,
   "hotkeys": {
    "equation": "Ctrl-E",
    "itemize": "Ctrl-I"
   },
   "labels_anchors": false,
   "latex_user_defs": false,
   "report_style_numbering": false,
   "user_envs_cfg": false
  },
  "toc": {
   "base_numbering": 1,
   "nav_menu": {},
   "number_sections": false,
   "sideBar": true,
   "skip_h1_title": false,
   "title_cell": "Table of Contents",
   "title_sidebar": "Contents",
   "toc_cell": false,
   "toc_position": {
    "height": "calc(100% - 180px)",
    "left": "10px",
    "top": "150px",
    "width": "317px"
   },
   "toc_section_display": true,
   "toc_window_display": true
  }
 },
 "nbformat": 4,
 "nbformat_minor": 2
}
