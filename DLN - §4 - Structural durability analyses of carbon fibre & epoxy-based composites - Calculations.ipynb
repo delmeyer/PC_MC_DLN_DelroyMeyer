{
 "cells": [
  {
   "cell_type": "markdown",
   "metadata": {
    "slideshow": {
     "slide_type": "slide"
    }
   },
   "source": [
    "# Structural durability calculations for carbon/epoxy laminates\n",
    "\n",
    "## Computing the structural durability from coupon fatigue experiments"
   ]
  },
  {
   "cell_type": "markdown",
   "metadata": {},
   "source": [
    "**NOTE:** This DLN entry is programmed within a MATLAB kernel embedded in the Jupyter Notebook computing environment; a Pythonic re-direct to the connected DLN etries is not permissible (*this is why the ***DLN Contents*** section is not available here*)."
   ]
  },
  {
   "cell_type": "markdown",
   "metadata": {
    "slideshow": {
     "slide_type": "subslide"
    }
   },
   "source": [
    "# 4. Structural durability calculations"
   ]
  },
  {
   "cell_type": "markdown",
   "metadata": {
    "slideshow": {
     "slide_type": "subslide"
    }
   },
   "source": [
    "**Assumptions**:\n",
    "\n",
    "* Composite coupons are considered to be quasi-homogeneous, which implies that the properties are taken to be the same at every point\n",
    "* Properties are not the same as the properties of either the fibre or the matrix but are a combination of the properties of the constituents\n",
    "* The quasi-fatigue analyses assume that the coupons undergo small deformations and the material behaves in a linearly elastic manner; in practice this assumption is reasonable, as the strain deformation measurements (recorded during experiment runs) were much smaller in magnitude than the actually specimen dimensions"
   ]
  },
  {
   "cell_type": "markdown",
   "metadata": {
    "slideshow": {
     "slide_type": "slide"
    }
   },
   "source": [
    "## 4.1 Test compiling of Matlab code"
   ]
  },
  {
   "cell_type": "markdown",
   "metadata": {
    "slideshow": {
     "slide_type": "subslide"
    }
   },
   "source": [
    "MATLAB code was written, based on laminate stress-strain deformation (quasi-static fatigue) theory presented in [XYZ], to compute/validate the sample case presented by Kollar, L. P., & Springer, G. S. (2003).\n",
    "\n",
    "***Sample case details:***\n",
    "* Calculate the stiffness [A], [B], [D] and the compliance [$\\alpha$], [$\\beta$], [$\\gamma$] matrices of a [0/45], 10-ply/10-ply laminate made of graphite epoxy unidirectional plies. The ply properties are given in the table below:\n",
    "\n",
    "**Table: Ply properties of graphite epoxy unidirectional laminate plies**\n",
    "\n",
    "| Property | Symbol | Unit | [0°] ply | [45°] ply |\n",
    "|:----------------------------:|:----------:|:----:|:--------:|:---------:|\n",
    "| Longitudinal Young’s modulus | $E_{1}$ | GPa | 148 | 16.39 |\n",
    "| Transverse Young’s modulus | $E_{2}$ | GPa | 9.65 | 16.39 |\n",
    "| Longitudinal shear modulus | $G_{12}$ | GPa | 4.55 | 38.19 |\n",
    "| Longitudinal Poisson's ratio | $\\nu_{12}$ |  | 0.3 | 0.801 |\n",
    "| Thickness | $h_{0}$ | mm | 0.1 | 0.2 |\n",
    "\n",
    "\n",
    "[1] Kollar, L. P., & Springer, G. S. (2003). Mechanics of composite structures. Cambridge university press.\n",
    "\n"
   ]
  },
  {
   "cell_type": "code",
   "execution_count": 667,
   "metadata": {
    "slideshow": {
     "slide_type": "skip"
    }
   },
   "outputs": [
    {
     "name": "stdout",
     "output_type": "stream",
     "text": [
      "Created file '/Users/delroy_m/Desktop/(CMT) Materials Characterization ELN/dispn.m'.\n"
     ]
    }
   ],
   "source": [
    "%%file dispn.m\n",
    "%%Define Brenden Epps 'DISP(X,N)' function for better visualization of matrix output:\n",
    "%https://www.mathworks.com/matlabcentral/fileexchange/37025-dispn-x-n-displays-matrix-x-to-n-digits-of-precision\n",
    "\n",
    "% -------------------------dispn(X,N)-------------------------------------\n",
    "% DISPN(X,N) displays matrix X to N digits of precision.\n",
    "%\n",
    "% Inputs:\n",
    "%\n",
    "%   X == 1D vector or 2D matrix\n",
    "%   N == desired (whole) number of digits of precision\n",
    "%        N may be a scalar or \n",
    "%                 a vector with length equal to number of columns of X\n",
    "%\n",
    "% Example:\n",
    "%       X = rand(4,3)-0.5\n",
    "%       dispn(X,8)\n",
    "%       disp(' ')\n",
    "%       dispn(X,[2,4,6])\n",
    "%\n",
    "% See also:\n",
    "%   DISP(X) displays the matrix in the current screen format.\n",
    "% -------------------------------------------------------------------------\n",
    "function [] = dispn(X,N)\n",
    "[I,J] =   size(X);\n",
    "   K  = length(N);\n",
    "if     K == 1   \n",
    "    \n",
    "    N = N * ones(1,J);\n",
    "elseif K ~= J\n",
    "    \n",
    "    disp('ERROR: length(N) must either be 1 or equal to the number of columns of X.')\n",
    "    return\n",
    "end\n",
    "for i = 1:I\n",
    "    string = '';\n",
    "    \n",
    "    for j = 1:J\n",
    "        \n",
    "        if X(i,j) >= 0\n",
    "        \n",
    "            string = [string,'   %.', num2str( N(j) ) ,'f'];\n",
    "        else\n",
    "            string = [string,'  %.' , num2str( N(j) ) ,'f'];        \n",
    "        end\n",
    "    end\n",
    "        \n",
    "    disp( sprintf( string , X(i,:) ) )\n",
    "end"
   ]
  },
  {
   "cell_type": "code",
   "execution_count": 671,
   "metadata": {
    "slideshow": {
     "slide_type": "fragment"
    }
   },
   "outputs": [],
   "source": [
    "%Composite material properties\n",
    "\n",
    "E11 = 148e9;         %Longitudinal Young's modulus (Pa [=] N/m^2)\n",
    "E22 = 9.65e9;        %Transverse Young's modulus (Pa [=] N/m^2)\n",
    "G12 = 4.55e9;        %Longitudinal shear modulus (Pa [=] N/m^2)\n",
    "nu12 = 0.3;          %Longitudinal Poisson's ratio\n",
    "nu23 = 0.6;          %Transverse Poisson's ratio\n",
    "\n",
    "%Define distances of each ply from stated reference plane; sign convention is '-ve values' for plies below\n",
    "%the reference plane & '+ve values' for plies above the reference plane\n",
    "\n",
    "%%20 plies in composite specimen\n",
    "z0 = -0.001;\n",
    "z1 = -0.0009;\n",
    "z2 = -0.0008;\n",
    "z3 = -0.0007;\n",
    "z4 = -0.0006;\n",
    "z5 = -0.0005;\n",
    "z6 = -0.0004;\n",
    "z7 = -0.0003;\n",
    "z8 = -0.0002;\n",
    "z9 = -0.0001;\n",
    "z10 = 0;\n",
    "z11 = 0.0001;\n",
    "z12 = 0.0002;\n",
    "z13 = 0.0003;\n",
    "z14 = 0.0004;\n",
    "z15 = 0.0005;\n",
    "z16 = 0.0006;\n",
    "z17 = 0.0007;\n",
    "z18 = 0.0008;\n",
    "z19 = 0.0009;\n",
    "z20 = 0.001;\n",
    "\n",
    "%%Define ply orientation (bottom to top of composite ply layup)\n",
    "Theta = [0; 0; 0; 0; 0; 0; 0; 0; 0; 0; 45; 45; 45; 45; 45; 45; 45; 45; 45; 45];\n",
    "%Theta = [0; 0; 45; 45;];"
   ]
  },
  {
   "cell_type": "code",
   "execution_count": 672,
   "metadata": {
    "slideshow": {
     "slide_type": "fragment"
    }
   },
   "outputs": [],
   "source": [
    "%%\n",
    "\n",
    "% Define variables for ply orientation\n",
    "Z = [z0; z1; z2; z3; z4; z5; z6; z7; z8; z9; z10; z11; z12; z13; z14; z15; z16; z17; z18; z19; z20];\n",
    "%Z = [z0; z1; z2; z3; z4];\n",
    "\n",
    "%%Compute compliance matrix constants for orthotropic composite plies\n",
    "%S16 = S26 = 0;\n",
    "S11 = 1/E11;\n",
    "S12 = -(nu12/E11);\n",
    "S22 = 1/E22;\n",
    "S66 = 1/G12;\n",
    "\n",
    "%Compute reduced stiffness matrix constants for orthotropic composite plies\n",
    "%Q16 = Q26 = 0;\n",
    "% QDN = (S11*S12)-((S12)^2);\n",
    "% Q11 = S22/QDN;\n",
    "% Q12 = (-S12)/QDN;\n",
    "% Q22 = S11/QDN;\n",
    "% Q66 = 1/S66;\n",
    "D = 1-((E22/E11)*((nu12)^2));\n",
    "Q11 = E11/D;\n",
    "Q12 = (nu12*E22)/D;\n",
    "Q21 = Q12;\n",
    "Q22 = E22/D;\n",
    "Q66 = G12;\n",
    "\n",
    "%%Define 'x' as a symbolic number (symbolic numbers are exact representations)\n",
    "x = sym('x');\n",
    "\n",
    "%%Initialize ABD matrices\n",
    "A_mat = zeros(3,3);\n",
    "B_mat = zeros(3,3);\n",
    "D_mat = zeros(3,3);\n",
    "\n",
    "%%FOR loop to compute reduced ABD matrices\n",
    "for n = 1:20\n",
    "    x = Theta(n,1)*(pi/180);\n",
    "    s = sin(x);\n",
    "    c = cos(x);\n",
    "    Qb11 = (Q11*(c^4)) + (Q22*(s^4)) + ((2*(s^2))*(c^2)*(Q12 + (2*Q66)));\n",
    "    Qb22 = (Q11*(s^4)) + (Q22*(c^4)) + ((2*(s^2))*(c^2)*(Q12 + (2*Q66)));\n",
    "    Qb12 = (((c^2)*(s^2))*(Q11+Q22-(4*Q66))) + (((c^4)+(s^4))*Q12);\n",
    "    Qb66 = (((c^2)*(s^2))*(Q11+Q22-(2*Q12))) + ((((c^2)-(s^2))^2)*Q66);\n",
    "    Qb16 = c*s*(((c^2)*Q11) - ((s^2)*Q22) - ((c^2)-(s^2))*(Q12+(2*Q66)));\n",
    "    Qb26 = c*s*(((s^2)*Q11) - ((c^2)*Q22) + ((c^2)-(s^2))*(Q12 + (2*Q66)));\n",
    "    \n",
    "    Zk1(n,1) = Z(n+1,1) - Z(n,1);\n",
    "    Zk2(n,1) = ((Z(n+1,1))^2) - ((Z(n,1))^2);    \n",
    "    Zk3(n,1) = ((Z(n+1,1))^3) - ((Z(n,1))^3);\n",
    "    \n",
    "    Qb(((n-1)*3)+1:((n-1)*3)+3,1:3) = [Qb11 Qb12 Qb16; Qb12 Qb22 Qb26; Qb16 Qb26 Qb66];\n",
    "    \n",
    "    A_mat((n*3)+1:(n*3)+3,1:3) = (Qb(((n-1)*3)+1:((n-1)*3)+3,1:3).*Zk1(n,1)) + A_mat(((n-1)*3)+1:((n-1)*3)+3,1:3);\n",
    "    \n",
    "    B_mat((n*3)+1:(n*3)+3,1:3) = ((Qb(((n-1)*3)+1:((n-1)*3)+3,1:3).*Zk2(n,1))/2) + B_mat(((n-1)*3)+1:((n-1)*3)+3,1:3);    \n",
    "\n",
    "    D_mat((n*3)+1:(n*3)+3,1:3) = ((Qb(((n-1)*3)+1:((n-1)*3)+3,1:3).*Zk3(n,1))/3) + D_mat(((n-1)*3)+1:((n-1)*3)+3,1:3);\n",
    "end\n",
    "\n",
    "\n",
    "%Define the matrix that describes the in-plane forces & moments on the composite laminate - \n",
    "%%describes the response of the laminate to in-plane forces and moments\n",
    "A = A_mat(61:63,1:3);\n",
    "B = B_mat(61:63,1:3);\n",
    "D = D_mat(61:63,1:3);\n",
    "\n",
    "IPFM = [A B; B D];\n",
    "\n",
    "%Compute the matrix that describes the strain and curvatures imposed on the laminate\n",
    "IP_inv = inv(IPFM);\n",
    "\n",
    "alpha = IP_inv(1:3,1:3);\n",
    "beta = IP_inv(4:6,1:3);\n",
    "delta = IP_inv(4:6,4:6);\n",
    "\n"
   ]
  },
  {
   "cell_type": "markdown",
   "metadata": {
    "slideshow": {
     "slide_type": "slide"
    }
   },
   "source": [
    "From the literature, the case [A] stiffness matrix was presented as:\n",
    "\n",
    "$$ [A] =\n",
    "\\begin{bmatrix} 194.52 & 39.46 & 34.79 \\\\ \n",
    "39.46 & 55.36 & 34.79 \\\\ \n",
    "34.79 & 34.79 & 42.74 \\\\\n",
    "\\end{bmatrix} \n",
    "\\cdot\n",
    "10^{6} \\frac{N}{m} $$"
   ]
  },
  {
   "cell_type": "code",
   "execution_count": 673,
   "metadata": {
    "slideshow": {
     "slide_type": "fragment"
    }
   },
   "outputs": [
    {
     "name": "stdout",
     "output_type": "stream",
     "text": [
      "MATLAB program output\n",
      "Laminate stiffness matrix\n",
      "----------------------------------\n",
      "[A], units: N/m = \n",
      "    194524818   39463281   34791666\n",
      "   39463281   55358155   34791666\n",
      "   34791666   34791666   42739103\n"
     ]
    }
   ],
   "source": [
    "format short\n",
    "fprintf('MATLAB program output\\n');\n",
    "fprintf('Laminate stiffness matrix\\n');\n",
    "fprintf('----------------------------------\\n');\n",
    "fprintf('[A], units: N/m = \\n');\n",
    "fprintf(' ');\n",
    "dispn(A,0)"
   ]
  },
  {
   "cell_type": "markdown",
   "metadata": {
    "slideshow": {
     "slide_type": "slide"
    }
   },
   "source": [
    "From the literature, the case [B] stiffness matrix was presented as:\n",
    "\n",
    "$$ [B] =\n",
    "\\begin{bmatrix} −51.61 & 16.82 & 17.40 \\\\ \n",
    "16.82 & 17.97 & 17.40 \\\\ \n",
    "17.40 & 17.40 & 16.82 \\\\\n",
    "\\end{bmatrix} \n",
    "\\cdot\n",
    "10^{3} N $$"
   ]
  },
  {
   "cell_type": "code",
   "execution_count": 674,
   "metadata": {
    "slideshow": {
     "slide_type": "fragment"
    }
   },
   "outputs": [
    {
     "name": "stdout",
     "output_type": "stream",
     "text": [
      "MATLAB program output\n",
      "Laminate stiffness matrix\n",
      "----------------------------------\n",
      "[B], units: N = \n",
      "   -51611   16820   17396\n",
      "   16820   17972   17396\n",
      "   17396   17396   16820\n"
     ]
    }
   ],
   "source": [
    "format short\n",
    "fprintf('MATLAB program output\\n');\n",
    "fprintf('Laminate stiffness matrix\\n');\n",
    "fprintf('----------------------------------\\n');\n",
    "fprintf('[B], units: N = \\n');\n",
    "fprintf(' ');\n",
    "dispn(B,0)\n"
   ]
  },
  {
   "cell_type": "markdown",
   "metadata": {
    "slideshow": {
     "slide_type": "slide"
    }
   },
   "source": [
    "From the literature, the case [D] stiffness matrix was presented as:\n",
    "\n",
    "$$ [D] =\n",
    "\\begin{bmatrix} 64.84 & 13.15 & 11.60 \\\\ \n",
    "13.15 & 18.45 & 11.60 \\\\ \n",
    "11.60 & 11.60 & 14.25 \\\\\n",
    "\\end{bmatrix} \n",
    "N \\cdot m $$"
   ]
  },
  {
   "cell_type": "code",
   "execution_count": 675,
   "metadata": {
    "slideshow": {
     "slide_type": "fragment"
    }
   },
   "outputs": [
    {
     "name": "stdout",
     "output_type": "stream",
     "text": [
      "MATLAB program output\n",
      "Laminate stiffness matrix\n",
      "----------------------------------\n",
      "[D], units: N*m = \n",
      "    64.84   13.15   11.60\n",
      "   13.15   18.45   11.60\n",
      "   11.60   11.60   14.25\n"
     ]
    }
   ],
   "source": [
    "format short\n",
    "fprintf('MATLAB program output\\n');\n",
    "fprintf('Laminate stiffness matrix\\n');\n",
    "fprintf('----------------------------------\\n');\n",
    "fprintf('[D], units: N*m = \\n');\n",
    "fprintf(' ');\n",
    "dispn(D,2)"
   ]
  },
  {
   "cell_type": "markdown",
   "metadata": {
    "slideshow": {
     "slide_type": "slide"
    }
   },
   "source": [
    "From the literature, the case [$\\alpha$] compliance matrix was presented as:\n",
    "\n",
    "$$ [\\alpha] =\n",
    "\\begin{bmatrix} 13.44 & −4.85  & −7.14 \\\\ \n",
    "−4.85 & 41.81 & −21.23 \\\\ \n",
    "−7.14 & −21.23 & 64.95 \\\\\n",
    "\\end{bmatrix}\n",
    "\\cdot 10^{-9}\n",
    "\\frac{m}{N}  $$"
   ]
  },
  {
   "cell_type": "code",
   "execution_count": 676,
   "metadata": {
    "slideshow": {
     "slide_type": "fragment"
    }
   },
   "outputs": [
    {
     "name": "stdout",
     "output_type": "stream",
     "text": [
      "MATLAB program output\n",
      "Global laminate compliance matrix\n",
      "----------------------------------\n",
      "[alpha], units: m/N = \n",
      "    1.0e-07 *\n",
      "    0.1344   -0.0485   -0.0714\n",
      "   -0.0485    0.4181   -0.2123\n",
      "   -0.0714   -0.2123    0.6495\n"
     ]
    }
   ],
   "source": [
    "format short\n",
    "fprintf('MATLAB program output\\n');\n",
    "fprintf('Global laminate compliance matrix\\n');\n",
    "fprintf('----------------------------------\\n');\n",
    "fprintf('[alpha], units: m/N = \\n');\n",
    "fprintf(' ');\n",
    "disp(alpha)"
   ]
  },
  {
   "cell_type": "markdown",
   "metadata": {
    "slideshow": {
     "slide_type": "slide"
    }
   },
   "source": [
    "From the literature, the case [$\\beta$] compliance matrix was presented as:\n",
    "\n",
    "$$ [\\beta] =\n",
    "\\begin{bmatrix} 17.07 & −6.01 & −11.06 \\\\ \n",
    "−6.01 & −5.04 & −11.06 \\\\ \n",
    "−11.06 & −11.06 & −24.05 \\\\\n",
    "\\end{bmatrix}\n",
    "\\cdot 10^{-6}\n",
    "\\frac{1}{N}  $$"
   ]
  },
  {
   "cell_type": "code",
   "execution_count": 677,
   "metadata": {
    "slideshow": {
     "slide_type": "fragment"
    }
   },
   "outputs": [
    {
     "name": "stdout",
     "output_type": "stream",
     "text": [
      "MATLAB program output\n",
      "Global laminate compliance matrix\n",
      "----------------------------------\n",
      "[beta], units: 1/N = \n",
      "    1.0e-04 *\n",
      "    0.1707   -0.0601   -0.1106\n",
      "   -0.0601   -0.0504   -0.1106\n",
      "   -0.1106   -0.1106   -0.2405\n"
     ]
    }
   ],
   "source": [
    "format short\n",
    "fprintf('MATLAB program output\\n');\n",
    "fprintf('Global laminate compliance matrix\\n');\n",
    "fprintf('----------------------------------\\n');\n",
    "fprintf('[beta], units: 1/N = \\n');\n",
    "fprintf(' ');\n",
    "disp(beta)"
   ]
  },
  {
   "cell_type": "markdown",
   "metadata": {
    "slideshow": {
     "slide_type": "slide"
    }
   },
   "source": [
    "From the literature, the case [$\\delta$] compliance matrix was presented as:\n",
    "\n",
    "$$ [\\delta] =\n",
    "\\begin{bmatrix} 40.32 & −14.56 & −21.41 \\\\ \n",
    "−14.56 & 125.42 & −63.68 \\\\ \n",
    "−21.41 & −63.68 & 194.86 \\\\\n",
    "\\end{bmatrix}\n",
    "\\cdot 10^{-3}\n",
    "\\frac{1}{N \\cdot m}  $$"
   ]
  },
  {
   "cell_type": "code",
   "execution_count": 678,
   "metadata": {
    "slideshow": {
     "slide_type": "fragment"
    }
   },
   "outputs": [
    {
     "name": "stdout",
     "output_type": "stream",
     "text": [
      "MATLAB program output\n",
      "Global laminate compliance matrix\n",
      "----------------------------------\n",
      "[delta], units: 1/(N*m) = \n",
      "    0.04032  -0.01456  -0.02141\n",
      "  -0.01456   0.12542  -0.06368\n",
      "  -0.02141  -0.06368   0.19486\n"
     ]
    }
   ],
   "source": [
    "format short\n",
    "fprintf('MATLAB program output\\n');\n",
    "fprintf('Global laminate compliance matrix\\n');\n",
    "fprintf('----------------------------------\\n');\n",
    "fprintf('[delta], units: 1/(N*m) = \\n');\n",
    "fprintf(' ');\n",
    "dispn(delta,5)"
   ]
  },
  {
   "cell_type": "markdown",
   "metadata": {
    "slideshow": {
     "slide_type": "subslide"
    }
   },
   "source": [
    "The computation code was validated to be able to approximate the structural durability of the experiment carbon fibre coupons (*undergoing quasi-static deformation via tensile/compressive force loading*)."
   ]
  },
  {
   "cell_type": "markdown",
   "metadata": {
    "slideshow": {
     "slide_type": "slide"
    }
   },
   "source": [
    "## 4.2 Quasi-fatigue experiment - stiffness & compliance matrix calculations for experiment carbon fibre/epoxy laminate coupons"
   ]
  },
  {
   "cell_type": "markdown",
   "metadata": {
    "slideshow": {
     "slide_type": "subslide"
    }
   },
   "source": [
    "### 4.2.1 UD 0°, 4-Ply, tension-loaded coupon"
   ]
  },
  {
   "cell_type": "code",
   "execution_count": 559,
   "metadata": {
    "slideshow": {
     "slide_type": "fragment"
    }
   },
   "outputs": [],
   "source": [
    "%Test: quasi-fatigue (tensile) loading of a symmetric, 4-ply UD 0° carbon fibre/epoxy laminate\n",
    "%Laminate type: Symmetrical\n",
    "\n",
    "%%---------------------------------Data inputs---------------------------------------\n",
    "\n",
    "%%Carbon fibre elastic properties\n",
    "Ef1 = 230e9;                  %Fibre longitudinal modulus (Pa)\n",
    "Ef2 = 15e9;                   %Fibre transverse modulus (Pa)\n",
    "Vf = 0.55;                    %Fibre volume fraction\n",
    "Gf12 = 15e9;                  %Fibre longitudinal shear modulus (Pa)\n",
    "nuf = 0.2;                    %Fibre Poisson's ratio\n",
    "\n",
    "%%Epoxy matrix elastic properties\n",
    "Vm = 1 - Vf;                  %Matrix volume fraction\n",
    "Em1 = 4e9;                    %Matrix longitudinal modulus (Pa)\n",
    "Em2 = 4e9;                    %Matrix transverse modulus (Pa)\n",
    "Gm12 = 1.481e9;               %Matrix longitudinal shear modulus (Pa)\n",
    "num = 0.35;                   %Matrix Poisson's ratio\n",
    "\n",
    "%%Experimental composite properties (measured)\n",
    "%% Tension applied in 1 (fibre-oriented) direction\n",
    "E_mod = 113.088392e9;         %Tensile modulus of elasticity from experiment (Pa)\n",
    "\n",
    "%%Build ply orientation (bottom to top of composite ply layup)\n",
    "%NOTES:\n",
    "%% 1. Code is only applicable for symmetric laminate designs\n",
    "%% 2. Code only accounts for 0°, ±30°, ±45°, ±60° and 90° fibre orientations\n",
    "%% 3. h = 2(o0 + o90 + o30 + o45 + o60) MUST follow\n",
    "%%\n",
    "%% symmetric ply layup convention:\n",
    "%% [0/o0/90/o90/30/o30/45/o45/60/o60]\n",
    "%% where:\n",
    "%% o0:  no. of 0° plies\n",
    "%% o90: no. of 90° plies\n",
    "%% o30: no. of ±30° plies\n",
    "%% o45: no. of ±45° plies\n",
    "%% o60: no. of ±60° plies\n",
    "\n",
    "%Define no. of each ply orietation for design laminate\n",
    "o0 = 4;\n",
    "o90 = 0;\n",
    "o30 = 0;\n",
    "o45 = 0;\n",
    "o60 = 0;\n",
    "\n",
    "%MATLAB has no simple function to add numeric values - store ply count in a vector\n",
    "ply_v = [o0 o90 o30 o45 o60];\n",
    "\n",
    "%Total number of plies in the laminate coupon\n",
    "nmp = sum(ply_v);\n",
    "\n",
    "%Ply orientatioms in radians for transform matrix calcs\n",
    "o0_rad = degtorad(0);\n",
    "o90_rad = degtorad(90);\n",
    "o30_rad = degtorad(30);\n",
    "o45_rad = degtorad(45);\n",
    "o60_rad = degtorad(60);\n",
    "\n",
    "%Define ply design details:\n",
    "tl = 1.02/1000;   %Measured avg. thickness of laminate coupons [m]\n",
    "np = 4;           %no. of ply layers\n",
    "t = t1/np;        %Avg. ply layer thickness [m]\n",
    "t0 =  t*o0;      %total thickness of 0° plies\n",
    "t90 = t*o90;      %total thickness of 90° plies\n",
    "t30 = t*o30;      %total thickness of 30° plies\n",
    "t45 = t*o45;      %total thickness of 45° plies\n",
    "t60 = t*o60;      %total thickness of 60° plies\n",
    "t_vec = [t0 t90 t30 t45 t60]; %Vector for ply thicknesses\n",
    "lt = sum(t_vec);  %total thickness of laminate (sanity check: lt == t1)\n",
    "w = 9.98;          %avg. coupon width [mm]\n",
    "Ww = w/1000;       %avg. coupon width [m]\n",
    "\n",
    "%Compute ply-layer compliance and stiffness constants\n",
    "if np ~= nmp | t1 ~= lt\n",
    "    error(\"User has mis-defined laminate ply layer design. Check design ply layer number.\\n\");\n",
    "    %break\n",
    "else\n",
    "    %%0° orientation orthotropic composite ply layers\n",
    "    %%----------------------------------------------------------------------------------------\n",
    "    %%Calculated engineering constants (with reference to principle axes)\n",
    "    E11_0 = (Ef1*Vf) + (Em*Vm);                       %Modulus in 1-direction (in fibre direction)\n",
    "    E11_e = E_mod;                                  %Experimentally-determined modulus\n",
    "    E22_0 = (Ef2*Em) / ((Vm*Ef2)+(Vf*Em));            %Modulus in 2-direction (⊥ to fibre direction)\n",
    "    nu12_0 = (Vm*num) + (Vf*nuf);                     %Poisson's ratio - contraction in the 2-direction (⊥ to fibre direction) \n",
    "                                                      % when an extension is applied in 1-direction (fibre direction)\n",
    "    G12_0 = (Gm*Gf)/((Vm*Gf)+(Vf*Gm));                %Shear modulus in 2-direction (⊥ to fibre direction) on the plane whose \n",
    "                                                      % normal is in direction 1-direction (fibre direction)\n",
    "\n",
    "    %%Compliance matrix constants by rule-of-mixture\n",
    "    S11_0 = 1/E11_0;\n",
    "    S12_0 = -(nu12_0/E11_0);\n",
    "    S21_0 = S12_0;\n",
    "    S22_0 = 1/E22_0;\n",
    "    S66_0 = 1/G12_0;\n",
    "    \n",
    "    %%Compliance matrix constants from experimental data\n",
    "    S11e = 1/E11_e;\n",
    "    S12e = -(nu12_0/E11_e);\n",
    "    S21e = S12e;\n",
    "    S22e = 1/E22_0;\n",
    "    S66e = 1/G12_0;\n",
    "\n",
    "    %Compute reduced stiffness matrix constants by rule-of-mixture\n",
    "    D_0 = 1-((E22_0/E11_0)*((nu12_0)^2));\n",
    "    Q11_0 = E11_0/D_0;\n",
    "    Q12_0 = (nu12_0*E22_0)/D_0;\n",
    "    Q21_0 = Q12_0;\n",
    "    Q22_0 = E22_0/D_0;\n",
    "    Q66_0 = G12_0;\n",
    "    \n",
    "    %%Compute reduced stiffness matrix constants from experimental data\n",
    "    D_e = 1-((E22_0/E11_e)*((nu12_0)^2));\n",
    "    Q11e = E11_e/D_e;\n",
    "    Q12e = (nu12_0*E22_0)/D_e;\n",
    "    Q21e = Q12e;\n",
    "    Q22e = E22_0/D_e;\n",
    "    Q66e = G12_0;\n",
    "\n",
    "    %Compile compliance matrix\n",
    "    S0 = [S11_0 S12_0 0; S21_0 S22_0 0; 0 0 S66_0];\n",
    "    S0e = [S11e S12e 0; S21e S22e 0; 0 0 S66e];\n",
    "    %Compile stiffness matrix\n",
    "    Q0 = [Q11_0 Q12_0 0; Q21_0 Q22_0 0; 0 0 Q66_0];\n",
    "    Q0e = [Q11e Q12e 0; Q21e Q22e 0; 0 0 Q66e];\n",
    "    %Sanity check\n",
    "    Q0_valid = inv(S0);\n",
    "    Q0e_valid = inv(S0e);\n",
    "\n",
    "    %Build the stress & strain transformation matrices\n",
    "    %% transformations are vital in analyses of stress and strain, both because they are needed\n",
    "    %% to compute critical values of these entities and also because the tensorial nature of stress and\n",
    "    %% strain is most clearly seen in their transformation properties. Other entities, such as moment of\n",
    "    %% inertia and curvature, also transform in a manner similar to stress and strain.\n",
    "    c0 = cos(o0_rad);\n",
    "    ss0 = sin(o0_rad);\n",
    "    %Stress transformation matrix\n",
    "    Tsig0 = [c0^2 ss0^2 2*c0*ss0; ss0^2 c0^2 -2*c0*ss0; -c0*ss0 c0*ss0 ((c0^2)-(ss0^2))];\n",
    "    %Strain transformation matrix\n",
    "    Teps0 = [c0^2 ss0^2 c0*ss0; ss0^2 c0^2 -c0*ss0; -2*c0*ss0 2*c0*ss0 ((c0^2)-(ss0^2))];\n",
    "    %Transformed (reduced) stiffness matrix\n",
    "    Qb0 = (inv(Tsig0))*Q0*Teps0;\n",
    "    Qb0e = (inv(Tsig0))*Q0e*Teps0;\n",
    "end\n",
    "\n",
    "\n",
    "%%LAMINATE response to quasi-fatigue loading\n",
    "%%----------------------------------------------------------------------------------------\n",
    "%Define reference axis, z1: the mid-plane of the symmetric laminate layup\n",
    "z1 = 0;\n",
    "\n",
    "%Define lower edge of 0° laminate section\n",
    "z0 = z1-(lt/2);\n",
    "\n",
    "%Define upper edge of 0° laminate section\n",
    "\n",
    "z2 = z1+(lt/2);\n",
    "\n",
    "%Define A, B and D matrix z multiplicatives\n",
    "zA1 = z1-z0;\n",
    "zA2 = z2-z1;\n",
    "zB1 = ((z1^2)-(z0^2))/2;\n",
    "zB2 = ((z2^2)-(z1^2))/2;\n",
    "zD1 = ((z1^3)-(z0^3))/3;\n",
    "zD2 = ((z2^3)-(z1^3))/3;\n",
    "\n",
    "%Compute the A, B and D matrices - stiffness matrices of the laminate\n",
    "% These matrices describe the in-plane forces & moments on the composite laminate\n",
    "A_UD04T = (Qb0*zA1) + (Qb0*zA2);\n",
    "B_UD04T = (Qb0*zB1) + (Qb0*zB2);\n",
    "D_UD04T = (Qb0*zD1) + (Qb0*zD2);\n",
    "\n",
    "A_UD04T_e = (Qb0e*zA1) + (Qb0e*zA2);\n",
    "B_UD04T_e = (Qb0e*zB1) + (Qb0e*zB2);\n",
    "D_UD04T_e = (Qb0e*zD1) + (Qb0e*zD2);\n",
    "\n",
    "%Compile the global in-plane forces/moments response matrix\n",
    "IPFM = [A_UD04T B_UD04T; B_UD04T D_UD04T];\n",
    "\n",
    "IPFMe = [A_UD04T_e B_UD04T_e; B_UD04T_e D_UD04T_e];\n",
    "\n",
    "%Compute the matrix that describes the strain and curvatures imposed on the laminate\n",
    "IP_inv = inv(IPFM);\n",
    "\n",
    "IP_e_inv = inv(IPFMe);\n",
    "\n",
    "aA_UD04T = IP_inv(1:3,1:3);\n",
    "bB_UD04T = IP_inv(4:6,1:3);\n",
    "dD_UD04T = IP_inv(4:6,4:6);\n",
    "\n",
    "aA_UD04T_e = IP_e_inv(1:3,1:3);\n",
    "bB_UD04T_e = IP_e_inv(4:6,1:3);\n",
    "dD_UD04T_e = IP_e_inv(4:6,4:6);\n",
    "\n",
    "%%Computation output:\n",
    "%%----------------------------------------------------------------------------------------\n",
    "% fprintf('Predicted elastic constant values:\\n');\n",
    "% fprintf('----------------------------------\\n');\n",
    "% fprintf('E11 modulus: %.3f GPa\\n', E11/1e9);\n",
    "% fprintf('E22 modulus: %.3f GPa\\n', E22/1e9);\n",
    "% fprintf('nu12: %.3f\\n', nu12);\n",
    "% fprintf('G12: %.3f GPa\\n', G12/1e9);\n",
    "% fprintf(' \\n');\n",
    "% fprintf('Empirically-determined E11 modulus: %.3f GPa\\n', E_mod/1e9);\n"
   ]
  },
  {
   "cell_type": "markdown",
   "metadata": {
    "slideshow": {
     "slide_type": "slide"
    }
   },
   "source": [
    "#### 4.2.1.1 [A] stiffness matrix - UD 0°, 4-Ply, tension-loaded coupon"
   ]
  },
  {
   "cell_type": "code",
   "execution_count": 562,
   "metadata": {
    "slideshow": {
     "slide_type": "fragment"
    }
   },
   "outputs": [
    {
     "name": "stdout",
     "output_type": "stream",
     "text": [
      "   115813114.545   1730671.795   0.000\n",
      "   1730671.795   6469801.102   0.000\n",
      "   0.000   0.000   2923997.365\n"
     ]
    }
   ],
   "source": [
    "dispn(A_UD04T_e,3)"
   ]
  },
  {
   "cell_type": "markdown",
   "metadata": {
    "slideshow": {
     "slide_type": "subslide"
    }
   },
   "source": [
    "The computed [A] stiffness matrix for the UD 0°, 4-Ply, tension-loaded coupon:\n",
    "\n",
    "$$ [A] =\n",
    "\\begin{bmatrix} 115.813 & 1.729 & 0 \\\\ \n",
    "1.729 & 6.469 & 0 \\\\ \n",
    "0 & 0 & 2.924 \\\\\n",
    "\\end{bmatrix} \n",
    "\\cdot\n",
    "10^{6} \\frac{N}{m} $$\n",
    "\n",
    "Which is consistent with laminate theory for symmetric, orthotropic laminate layups (*for this quasi-fatigue experiment, the expectation is no extension–shear, bending–twist, and extension–twist couplings*), where the [A] matrix should be of the form:\n",
    "\n",
    "$$ [A] =\n",
    "\\begin{bmatrix} A_{11} & A_{12} & A_{16} \\\\ \n",
    "A_{12} & A_{22} & A_{26} \\\\ \n",
    "A_{16} & A_{26} & A_{66} \\\\\n",
    "\\end{bmatrix} $$\n",
    "\n",
    "subject to:\n",
    "\n",
    "* **No Extension–shear coupling**:\n",
    "    * $A_{16} = A_{26} = 0$ for a symmetric laminate layup (ONLY in the 1-2 plane!)\n",
    "    * NOTE: When the elements $A_{16}$, $A_{26}$ are not zero, in-plane normal forces cause shear deformation, and a torsion force causes elongations in the x and y directions.\n"
   ]
  },
  {
   "cell_type": "markdown",
   "metadata": {
    "slideshow": {
     "slide_type": "slide"
    }
   },
   "source": [
    "#### 4.2.1.2 [B] stiffness matrix - UD 0°, 4-Ply, tension-loaded coupon"
   ]
  },
  {
   "cell_type": "code",
   "execution_count": 563,
   "metadata": {
    "slideshow": {
     "slide_type": "fragment"
    }
   },
   "outputs": [
    {
     "name": "stdout",
     "output_type": "stream",
     "text": [
      "B_UD04T_e =\n",
      "     0     0     0\n",
      "     0     0     0\n",
      "     0     0     0\n"
     ]
    }
   ],
   "source": [
    "B_UD04T_e"
   ]
  },
  {
   "cell_type": "markdown",
   "metadata": {
    "slideshow": {
     "slide_type": "subslide"
    }
   },
   "source": [
    "The computed [B] stiffness matrix for the UD 0°, 4-Ply, tension-loaded coupon:\n",
    "\n",
    "$$ [B] =\n",
    "\\begin{bmatrix} 0 & 0 & 0 \\\\ \n",
    "0 & 0 & 0 \\\\ \n",
    "0 & 0 & 0 \\\\\n",
    "\\end{bmatrix}  N $$\n",
    "\n",
    "Which is consistent with laminate theory for symmetric, orthotropic laminate layups (*for this quasi-fatigue experiment, the expectation is no extension–shear, bending–twist, and extension–twist couplings*), where the [B] matrix should take this form."
   ]
  },
  {
   "cell_type": "markdown",
   "metadata": {
    "slideshow": {
     "slide_type": "slide"
    }
   },
   "source": [
    "#### 4.2.1.3 [D] stiffness matrix - UD 0°, 4-Ply, tension-loaded coupon"
   ]
  },
  {
   "cell_type": "code",
   "execution_count": 564,
   "metadata": {
    "slideshow": {
     "slide_type": "fragment"
    }
   },
   "outputs": [
    {
     "name": "stdout",
     "output_type": "stream",
     "text": [
      "D_UD04T_e =\n",
      "   10.0410    0.1500         0\n",
      "    0.1500    0.5609         0\n",
      "         0         0    0.2535\n"
     ]
    }
   ],
   "source": [
    "D_UD04T_e"
   ]
  },
  {
   "cell_type": "markdown",
   "metadata": {
    "slideshow": {
     "slide_type": "subslide"
    }
   },
   "source": [
    "The computed [D] stiffness matrix for the UD 0°, 4-Ply, tension-loaded coupon:\n",
    "\n",
    "$$ [D] =\n",
    "\\begin{bmatrix} 10.041 & 0.150 & 0 \\\\ \n",
    "0.150 & 0.5609 & 0 \\\\ \n",
    "0 & 0 & 0.2535 \\\\\n",
    "\\end{bmatrix}  N \\cdot m $$\n",
    "\n",
    "Which is consistent with laminate theory for symmetric, orthotropic laminate layups (*for this quasi-fatigue experiment, the expectation is no extension–shear, bending–twist, and extension–twist couplings*), where the [D] matrix should take the form:\n",
    "\n",
    "subject to:\n",
    "\n",
    "* **No Bending–twist coupling**:\n",
    "    * $D_{16} = D_{26} = 0$ for a orthotropic laminate layups (ONLY in the 1-2 plane!)\n",
    "    * NOTE: When the elements $D_{16}$, $D_{26}$ are not zero, bending moments may cause twisting and twist moments of the laminate, which may result in curvatures of the laminate in various planes."
   ]
  },
  {
   "cell_type": "markdown",
   "metadata": {
    "slideshow": {
     "slide_type": "slide"
    }
   },
   "source": [
    "#### 4.2.1.4 [$\\alpha$] compliance matrix - UD 0°, 4-Ply, tension-loaded coupon"
   ]
  },
  {
   "cell_type": "code",
   "execution_count": 565,
   "metadata": {
    "slideshow": {
     "slide_type": "fragment"
    }
   },
   "outputs": [
    {
     "name": "stdout",
     "output_type": "stream",
     "text": [
      "   0.000000008669  -0.000000002319   0.000000000000\n",
      "  -0.000000002319   0.000000155185   0.000000000000\n",
      "   0.000000000000   0.000000000000   0.000000341998\n"
     ]
    }
   ],
   "source": [
    "dispn(aA_UD04T_e,12)"
   ]
  },
  {
   "cell_type": "markdown",
   "metadata": {
    "slideshow": {
     "slide_type": "subslide"
    }
   },
   "source": [
    "The computed [$\\alpha$] compliance matrix for the UD 0°, 4-Ply, tension-loaded coupon:\n",
    "\n",
    "$$ [\\alpha] =\n",
    "\\begin{bmatrix} 8.669 & −2.319  & 0 \\\\ \n",
    "−2.319 & 155.185 & 0 \\\\ \n",
    "0 & 0 & 341.998 \\\\\n",
    "\\end{bmatrix}\n",
    "\\cdot 10^{-9}\n",
    "\\frac{m}{N}  $$"
   ]
  },
  {
   "cell_type": "markdown",
   "metadata": {
    "slideshow": {
     "slide_type": "slide"
    }
   },
   "source": [
    "#### 4.2.1.5 [$\\beta$] compliance matrix - UD 0°, 4-Ply, tension-loaded coupon"
   ]
  },
  {
   "cell_type": "code",
   "execution_count": 566,
   "metadata": {
    "slideshow": {
     "slide_type": "fragment"
    }
   },
   "outputs": [
    {
     "name": "stdout",
     "output_type": "stream",
     "text": [
      "   0   0   0\n",
      "   0   0   0\n",
      "   0   0   0\n"
     ]
    }
   ],
   "source": [
    "dispn(bB_UD04T_e,0)"
   ]
  },
  {
   "cell_type": "markdown",
   "metadata": {
    "slideshow": {
     "slide_type": "subslide"
    }
   },
   "source": [
    "The computed [$\\beta$] compliance matrix for the UD 0°, 4-Ply, tension-loaded coupon, being of a symmetric, orthotropic design, is a zero-populated matrix:\n",
    "\n",
    "$$ [\\beta] =\n",
    "\\begin{bmatrix} 0 & 0  & 0 \\\\ \n",
    "0 & 0 & 0 \\\\ \n",
    "0 & 0 & 0 \\\\\n",
    "\\end{bmatrix}\n",
    "\\frac{1}{N}  $$"
   ]
  },
  {
   "cell_type": "markdown",
   "metadata": {
    "slideshow": {
     "slide_type": "slide"
    }
   },
   "source": [
    "#### 4.2.1.6 [$\\delta$] compliance matrix - UD 0°, 4-Ply, tension-loaded coupon"
   ]
  },
  {
   "cell_type": "code",
   "execution_count": 567,
   "metadata": {
    "slideshow": {
     "slide_type": "fragment"
    }
   },
   "outputs": [
    {
     "name": "stdout",
     "output_type": "stream",
     "text": [
      "   0.099991  -0.026748   -0.000000\n",
      "  -0.026748   1.789903   -0.000000\n",
      "   0.000000   0.000000   3.944609\n"
     ]
    }
   ],
   "source": [
    "dispn(dD_UD04T_e,6)"
   ]
  },
  {
   "cell_type": "markdown",
   "metadata": {
    "slideshow": {
     "slide_type": "subslide"
    }
   },
   "source": [
    "The computed [$\\delta$] compliance matrix for the UD 0°, 4-Ply, tension-loaded coupon:\n",
    "\n",
    "$$ [\\delta] =\n",
    "\\begin{bmatrix} 99.991 & −26.748 & 0 \\\\ \n",
    "−26.748 & 1789.903 & 0 \\\\ \n",
    "0 & 0 & 394.609 \\\\\n",
    "\\end{bmatrix}\n",
    "\\cdot 10^{-3}\n",
    "\\frac{1}{N \\cdot m}  $$"
   ]
  },
  {
   "cell_type": "markdown",
   "metadata": {
    "slideshow": {
     "slide_type": "slide"
    }
   },
   "source": [
    "### 4.2.2 UD 90°, 8-Ply, tension-loaded coupon"
   ]
  },
  {
   "cell_type": "code",
   "execution_count": 637,
   "metadata": {
    "slideshow": {
     "slide_type": "fragment"
    }
   },
   "outputs": [],
   "source": [
    "%Test: quasi-fatigue (tensile) loading of a symmetric, 8-ply UD 90° carbon fibre/epoxy laminate\n",
    "%Laminate type: Symmetrical\n",
    "\n",
    "%%---------------------------------Data inputs---------------------------------------\n",
    "\n",
    "%%CHECKED\n",
    "%%Carbon fibre elastic properties\n",
    "Ef1 = 230e9;                  %Fibre longitudinal modulus (Pa)\n",
    "Ef2 = 15e9;                   %Fibre transverse modulus (Pa)\n",
    "Vf = 0.55;                    %Fibre volume fraction\n",
    "Gf12 = 15e9;                  %Fibre longitudinal shear modulus (Pa)\n",
    "nuf = 0.2;                    %Fibre Poisson's ratio\n",
    "\n",
    "%%Epoxy matrix elastic properties\n",
    "Vm = 1 - Vf;                  %Matrix volume fraction\n",
    "Em1 = 4e9;                    %Matrix longitudinal modulus (Pa)\n",
    "Em2 = 4e9;                    %Matrix transverse modulus (Pa)\n",
    "Gm12 = 1.481e9;               %Matrix longitudinal shear modulus (Pa)\n",
    "num = 0.35;                   %Matrix Poisson's ratio\n",
    "\n",
    "%%Experimental composite properties (measured)\n",
    "%% Tension applied in 1 (fibre-oriented) direction\n",
    "E_mod_90 = 3.073586e9;        %Tensile modulus of elasticity from experiment (Pa)\n",
    "\n",
    "%%Build ply orientation (bottom to top of composite ply layup)\n",
    "%NOTES:\n",
    "%% 1. Code is only applicable for symmetric laminate designs\n",
    "%% 2. Code only accounts for 0°, ±30°, ±45°, ±60° and 90° fibre orientations\n",
    "%% 3. h = 2(o0 + o90 + o30 + o45 + o60) MUST follow\n",
    "%%\n",
    "%% symmetric ply layup convention:\n",
    "%% [0/o0/90/o90/30/o30/45/o45/60/o60]\n",
    "%% where:\n",
    "%% o0:  no. of 0° plies\n",
    "%% o90: no. of 90° plies\n",
    "%% o30: no. of ±30° plies\n",
    "%% o45: no. of ±45° plies\n",
    "%% o60: no. of ±60° plies\n",
    "\n",
    "%%CHECKED\n",
    "%Define no. of each ply orietation for design laminate\n",
    "o0 = 0;\n",
    "o90 = 0;\n",
    "o30 = 0;\n",
    "o45 = 8;\n",
    "o60 = 0;\n",
    "\n",
    "%%CHECKED\n",
    "%MATLAB has no simple function to add numeric values - store ply count in a vector\n",
    "ply_v = [o0 o90 o30 o45 o60];\n",
    "\n",
    "%Total number of plies in the laminate coupon\n",
    "nmp = sum(ply_v);\n",
    "\n",
    "%%CHECKED\n",
    "%Ply orientatioms in radians for transform matrix calcs\n",
    "o0_rad = degtorad(0);\n",
    "o90_rad = degtorad(90);\n",
    "o30_rad = degtorad(30);\n",
    "o45_rad = degtorad(45);\n",
    "o60_rad = degtorad(60);\n",
    "\n",
    "%%CHECKED\n",
    "%Define ply design details:\n",
    "t_lam = 1.98/1000;   %Measured avg. thickness of laminate coupons [m]\n",
    "np = 8;              %total no. of ply layers\n",
    "t = t_lam/np;        %Avg. ply layer thickness [m]\n",
    "t0 =  t*o0;          %total thickness of 0° plies\n",
    "t90 = t*o90;         %total thickness of 90° plies\n",
    "t30 = t*o30;         %total thickness of 30° plies\n",
    "t45 = t*o45;         %total thickness of 45° plies\n",
    "t60 = t*o60;         %total thickness of 60° plies\n",
    "t_vec = [t0 t90 t30 t45 t60]; %Vector for ply thicknesses\n",
    "lt = sum(t_vec);     %total thickness of laminate (sanity check: lt == t_lam)\n",
    "w = 20.02;           %avg. coupon width [mm]\n",
    "Ww = w/1000;         %avg. coupon width [m]\n",
    "\n",
    "%Compute ply-layer compliance and stiffness constants\n",
    "if np ~= nmp | t_lam ~= lt\n",
    "    error(\"User has mis-defined laminate ply layer design. Please verify design inputs.\\n\");\n",
    "    %break\n",
    "else\n",
    "    %%90° orientation orthotropic composite ply layers\n",
    "    %%----------------------------------------------------------------------------------------\n",
    "    %%Calculated engineering constants (with reference to principle axes)\n",
    "    E11_90 = (Ef1*Vf) + (Em*Vm);                    %Modulus in 1-direction (⊥ to fibre direction)\n",
    "    E11_e90 = E_mod_90;                                  %Experimentally-determined modulus\n",
    "    E22_90 = (Ef2*Em) / ((Vm*Ef2)+(Vf*Em));         %Modulus in 2-direction (in fibre direction)\n",
    "    nu12_90 = (Vm*num) + (Vf*nuf);                  %Poisson's ratio - contraction in the 2-direction (in fibre direction) \n",
    "                                                      % when an extension is applied in 1-direction (⊥ to fibre direction)\n",
    "    G12_90 = (Gm*Gf)/((Vm*Gf)+(Vf*Gm));             %Shear modulus in 2-direction (in fibre direction) on the plane whose \n",
    "                                                      % normal is in direction 1-direction (⊥ to fibre direction)\n",
    "\n",
    "    %%Compliance matrix constants by rule-of-mixture\n",
    "    S11_90 = 1/E11_90;\n",
    "    S12_90 = -(nu12_90/E11_90);\n",
    "    S21_90 = S12_90;\n",
    "    S22_90 = 1/E22_90;\n",
    "    S66_90 = 1/G12_90;\n",
    "    \n",
    "    %%Compliance matrix constants from experimental data\n",
    "    S11e = 1/E11_e90;\n",
    "    S12e = -(nu12_90/E11_e90);\n",
    "    S21e = S12e;\n",
    "    S22e = 1/E22_90;\n",
    "    S66e = 1/G12_90;\n",
    "\n",
    "    %Compute reduced stiffness matrix constants by rule-of-mixture\n",
    "    D_90 = 1-((E22_90/E11_90)*((nu12_90)^2));\n",
    "    Q11_90 = E11_90/D_90;\n",
    "    Q12_90 = (nu12_90*E22_90)/D_90;\n",
    "    Q21_90 = Q12_90;\n",
    "    Q22_90 = E22_90/D_90;\n",
    "    Q66_90 = G12_90;\n",
    "    \n",
    "    %%Compute reduced stiffness matrix constants from experimental data\n",
    "    D_e = 1-((E22_90/E11_e90)*((nu12_90)^2));\n",
    "    Q11e = E11_e90/D_e;\n",
    "    Q12e = (nu12_90*E22_90)/D_e;\n",
    "    Q21e = Q12e;\n",
    "    Q22e = E22_90/D_e;\n",
    "    Q66e = G12_90;\n",
    "\n",
    "    %Compile compliance matrix\n",
    "    S90 = [S11_90 S12_90 0; S21_90 S22_90 0; 0 0 S66_90];\n",
    "    S90e = [S11e S12e 0; S21e S22e 0; 0 0 S66e];\n",
    "    %Compile stiffness matrix\n",
    "    Q90 = [Q11_90 Q12_90 0; Q21_90 Q22_90 0; 0 0 Q66_90];\n",
    "    Q90e = [Q11e Q12e 0; Q21e Q22e 0; 0 0 Q66e];\n",
    "    %Sanity check\n",
    "    Q90_valid = inv(S90);\n",
    "    Q90e_valid = inv(S90e);\n",
    "\n",
    "    %Build the stress & strain transformation matrices\n",
    "    %% In a symmetrical laminate the ply located at a position +z is identical to the ply at −z\n",
    "    %% Correspondingly, the stiffness matrix [Q]bar of the ply at +z is identical to the stiffness matrix \n",
    "    %% of the ply at −z:\n",
    "    Qb90 = Q90;\n",
    "    Qb90e = Q90e;\n",
    "end\n",
    "\n",
    "\n",
    "%%LAMINATE response to quasi-fatigue loading\n",
    "%%----------------------------------------------------------------------------------------\n",
    "%Define reference axis, z1: the mid-plane of the symmetric laminate layup\n",
    "z1 = 0;\n",
    "\n",
    "%Define lower edge of 90° laminate section\n",
    "z0 = z1-(lt/2);\n",
    "\n",
    "%Define upper edge of 90° laminate section\n",
    "\n",
    "z2 = z1+(lt/2);\n",
    "\n",
    "%Define A, B and D matrix z multiplicatives\n",
    "zA1 = z1-z0;\n",
    "zA2 = z2-z1;\n",
    "zB1 = ((z1^2)-(z0^2))/2;\n",
    "zB2 = ((z2^2)-(z1^2))/2;\n",
    "zD1 = ((z1^3)-(z0^3))/3;\n",
    "zD2 = ((z2^3)-(z1^3))/3;\n",
    "\n",
    "%Compute the A, B and D matrices - stiffness matrices of the laminate\n",
    "% These matrices describe the in-plane forces & moments on the composite laminate\n",
    "A_UD908T = (Qb90*zA1) + (Qb90*zA2);\n",
    "B_UD908T = (Qb90*zB1) + (Qb90*zB2);\n",
    "D_UD908T = (Qb90*zD1) + (Qb90*zD2);\n",
    "\n",
    "A_UD908T_e = (Qb90e*zA1) + (Qb90e*zA2);\n",
    "B_UD908T_e = (Qb90e*zB1) + (Qb90e*zB2);\n",
    "D_UD908T_e = (Qb90e*zD1) + (Qb90e*zD2);\n",
    "\n",
    "%Compile the global in-plane forces/moments response matrix\n",
    "IPFM = [A_UD908T B_UD908T; B_UD908T D_UD908T];\n",
    "\n",
    "IPFMe = [A_UD908T_e B_UD908T_e; B_UD908T_e D_UD908T_e];\n",
    "\n",
    "%Compute the matrix that describes the strain and curvatures imposed on the laminate\n",
    "IP_inv = inv(IPFM);\n",
    "\n",
    "IP_e_inv = inv(IPFMe);\n",
    "\n",
    "aA_UD908T = IP_inv(1:3,1:3);\n",
    "bB_UD908T = IP_inv(4:6,1:3);\n",
    "dD_UD908T = IP_inv(4:6,4:6);\n",
    "\n",
    "aA_UD908T_e = IP_e_inv(1:3,1:3);\n",
    "bB_UD908T_e = IP_e_inv(4:6,1:3);\n",
    "dD_UD908T_e = IP_e_inv(4:6,4:6);\n",
    "\n",
    "%%Computation output:\n",
    "%%----------------------------------------------------------------------------------------\n",
    "% fprintf('Predicted elastic constant values:\\n');\n",
    "% fprintf('----------------------------------\\n');\n",
    "% fprintf('E11 modulus: %.3f GPa\\n', E11/1e9);\n",
    "% fprintf('E22 modulus: %.3f GPa\\n', E22/1e9);\n",
    "% fprintf('nu12: %.3f\\n', nu12);\n",
    "% fprintf('G12: %.3f GPa\\n', G12/1e9);\n",
    "% fprintf(' \\n');\n",
    "% fprintf('Empirically-determined E11 modulus: %.3f GPa\\n', E_mod/1e9);\n"
   ]
  },
  {
   "cell_type": "markdown",
   "metadata": {
    "slideshow": {
     "slide_type": "slide"
    }
   },
   "source": [
    "#### 4.2.2.1 Matrix calculations output"
   ]
  },
  {
   "cell_type": "code",
   "execution_count": 642,
   "metadata": {
    "slideshow": {
     "slide_type": "fragment"
    }
   },
   "outputs": [
    {
     "name": "stdout",
     "output_type": "stream",
     "text": [
      "UD 90 deg, 8-Ply carbon fibre/epoxy coupon - tensile quasi-fatigue loading - Computation output: \n",
      " \n",
      "Laminate stiffness matrices\n",
      "----------------------------------\n",
      "[A], units: N/m = \n",
      "      2.546649526954187e+08     3.357954001565382e+06                         0\n",
      "     3.357954001565382e+06     1.255309907127246e+07                         0\n",
      "                         0                         0     5.675994885108693e+06\n",
      " \n",
      "[B], units: N = \n",
      "      0     0     0\n",
      "     0     0     0\n",
      "     0     0     0\n",
      " \n",
      "[D], units: N*m = \n",
      "      8.319904004559329e+01     1.097043572311410e+00                         0\n",
      "     1.097043572311410e+00     4.101097466584712e+00                         0\n",
      "                         0                         0     1.854347528965010e+00\n",
      " \n",
      "Laminate compliance matrices\n",
      "----------------------------------\n",
      "[a], units: m/N = \n",
      "      3.940627355756292e-09    -1.054117817664808e-09                         0\n",
      "    -1.054117817664808e-09     7.994357994357996e-08                         0\n",
      "                         0                         0     1.761805675025464e-07\n",
      " \n",
      "[b], units: 1/N = \n",
      "      0     0     0\n",
      "     0     0     0\n",
      "     0     0     0\n",
      " \n",
      "[d], units: 1/(N*m) = \n",
      "      1.206191415903364e-02    -3.226562037541499e-03                         0\n",
      "    -3.226562037541499e-03     2.447002753093968e-01                         0\n",
      "                         0                         0     5.392732399833070e-01\n",
      " \n"
     ]
    }
   ],
   "source": [
    "format long e\n",
    "%%Computation output:\n",
    "fprintf('UD 90 deg, 8-Ply carbon fibre/epoxy coupon - tensile quasi-fatigue loading - Computation output: \\n')\n",
    "disp(' ')\n",
    "%%----------------------------------------------------------------------------------------\n",
    "fprintf('Laminate stiffness matrices\\n');\n",
    "fprintf('----------------------------------\\n');\n",
    "fprintf('[A], units: N/m = \\n');\n",
    "fprintf(' ');\n",
    "disp(A_UD908T)\n",
    "disp(' ')\n",
    "fprintf('[B], units: N = \\n');\n",
    "fprintf(' ');\n",
    "disp(B_UD908T)\n",
    "disp(' ')\n",
    "fprintf('[D], units: N*m = \\n');\n",
    "fprintf(' ');\n",
    "disp(D_UD908T)\n",
    "disp(' ')\n",
    "fprintf('Laminate compliance matrices\\n');\n",
    "fprintf('----------------------------------\\n');\n",
    "fprintf('[a], units: m/N = \\n');\n",
    "fprintf(' ');\n",
    "disp(aA_UD908T)\n",
    "disp(' ')\n",
    "fprintf('[b], units: 1/N = \\n');\n",
    "fprintf(' ');\n",
    "disp(bB_UD908T)\n",
    "disp(' ')\n",
    "fprintf('[d], units: 1/(N*m) = \\n');\n",
    "fprintf(' ');\n",
    "disp(dD_UD908T)\n",
    "disp(' ')"
   ]
  },
  {
   "cell_type": "markdown",
   "metadata": {},
   "source": [
    "#### 4.2.2.2 Computation output summary"
   ]
  },
  {
   "cell_type": "markdown",
   "metadata": {
    "slideshow": {
     "slide_type": "subslide"
    }
   },
   "source": [
    "<!--------------------------A stiffness matrix------------------------------------------->\n",
    "The computed [A] stiffness matrix for the UD 90°, 8-Ply, tension-loaded coupon:\n",
    "\n",
    "$$ [A] =\n",
    "\\begin{bmatrix} 254.665 & 3.358 & 0 \\\\ \n",
    "3.358 & 12.553 & 0 \\\\ \n",
    "0 & 0 & 5.676 \\\\\n",
    "\\end{bmatrix} \n",
    "\\cdot\n",
    "10^{6} \\frac{N}{m} $$\n",
    "\n",
    "Which is consistent with laminate theory for symmetric, orthotropic laminate layups (*for this quasi-fatigue experiment, the expectation is no extension–shear, bending–twist, and extension–twist couplings*), where the [A] matrix should be of the form:\n",
    "\n",
    "$$ [A] =\n",
    "\\begin{bmatrix} A_{11} & A_{12} & A_{16} \\\\ \n",
    "A_{12} & A_{22} & A_{26} \\\\ \n",
    "A_{16} & A_{26} & A_{66} \\\\\n",
    "\\end{bmatrix} $$\n",
    "\n",
    "subject to:\n",
    "\n",
    "* **No Extension–shear coupling**:\n",
    "    * $A_{16} = A_{26} = 0$ for a symmetric laminate layup (ONLY in the 1-2 plane!)\n",
    "<!-------------------------------------------------------------------------------------------->\n",
    "\n",
    "The computed [B] stiffness matrix:\n",
    "\n",
    "$$ [B] =\n",
    "\\begin{bmatrix} 0 & 0 & 0 \\\\ \n",
    "0 & 0 & 0 \\\\ \n",
    "0 & 0 & 0 \\\\\n",
    "\\end{bmatrix}  N $$\n",
    "\n",
    "Which is consistent with laminate theory for symmetric, orthotropic laminate layups (*for this quasi-fatigue experiment, the expectation is no extension–shear, bending–twist, and extension–twist couplings*), where the [B] matrix should take this form.\n",
    "<!-------------------------------------------------------------------------------------------->\n",
    "\n",
    "The computed [D] stiffness matrix:\n",
    "\n",
    "$$ [D] =\n",
    "\\begin{bmatrix} 83.199 & 1.097 & 0 \\\\ \n",
    "1.097 & 4.101 & 0 \\\\ \n",
    "0 & 0 & 1.854 \\\\\n",
    "\\end{bmatrix}  N \\cdot m $$\n",
    "\n",
    "Which is consistent with laminate theory for symmetric, orthotropic laminate layups (*for this quasi-fatigue experiment, the expectation is no extension–shear, bending–twist, and extension–twist couplings*), where the [D] matrix should take the form:\n",
    "\n",
    "subject to:\n",
    "\n",
    "* **No Bending–twist coupling**:\n",
    "    * $D_{16} = D_{26} = 0$ for a orthotropic laminate layups (ONLY in the 1-2 plane!)\n",
    "\n",
    "<!-------------------------------------------------------------------------------------------->\n",
    "\n",
    "The computed [$\\alpha$] compliance matrix:\n",
    "\n",
    "$$ [\\alpha] =\n",
    "\\begin{bmatrix} 3.941 & -1.054  & 0 \\\\ \n",
    "-1.054 & 79.943 & 0 \\\\ \n",
    "0 & 0 & 176.180 \\\\\n",
    "\\end{bmatrix}\n",
    "\\cdot 10^{-9}\n",
    "\\frac{m}{N}  $$\n",
    "<!-------------------------------------------------------------------------------------------->\n",
    "\n",
    "The computed [$\\beta$] compliance matrix:\n",
    "\n",
    "$$ [\\beta] =\n",
    "\\begin{bmatrix} 0 & 0  & 0 \\\\ \n",
    "0 & 0 & 0 \\\\ \n",
    "0 & 0 & 0 \\\\\n",
    "\\end{bmatrix}\n",
    "\\frac{1}{N}  $$\n",
    "<!-------------------------------------------------------------------------------------------->\n",
    "\n",
    "The computed [$\\delta$] compliance matrix::\n",
    "\n",
    "$$ [\\delta] =\n",
    "\\begin{bmatrix} 12.061 & -3.227 & 0 \\\\ \n",
    "-3.227 & 244.701 & 0 \\\\ \n",
    "0 & 0 & 539.273 \\\\\n",
    "\\end{bmatrix}\n",
    "\\cdot 10^{-3}\n",
    "\\frac{1}{N \\cdot m}  $$\n"
   ]
  },
  {
   "cell_type": "markdown",
   "metadata": {
    "slideshow": {
     "slide_type": "slide"
    }
   },
   "source": [
    "### 4.2.3 ±45°, 8-Ply tension-loaded coupon"
   ]
  },
  {
   "cell_type": "code",
   "execution_count": 663,
   "metadata": {
    "slideshow": {
     "slide_type": "skip"
    }
   },
   "outputs": [],
   "source": [
    "%Test: quasi-fatigue (tensile) loading of a symmetric, 8-ply ±45° carbon fibre/epoxy laminate\n",
    "%Laminate type: cross-ply, balanced (symmetric, orthotropic)\n",
    "\n",
    "%%---------------------------------Data inputs---------------------------------------\n",
    "\n",
    "%%Carbon fibre elastic properties\n",
    "Ef1 = 230e9;                  %Fibre longitudinal modulus (Pa)\n",
    "Ef2 = 15e9;                   %Fibre transverse modulus (Pa)\n",
    "Vf = 0.55;                    %Fibre volume fraction\n",
    "Gf12 = 15e9;                  %Fibre longitudinal shear modulus (Pa)\n",
    "nuf = 0.2;                    %Fibre Poisson's ratio\n",
    "\n",
    "%%Epoxy matrix elastic properties\n",
    "Vm = 1 - Vf;                  %Matrix volume fraction\n",
    "Em1 = 4e9;                    %Matrix longitudinal modulus (Pa)\n",
    "Em2 = 4e9;                    %Matrix transverse modulus (Pa)\n",
    "Gm12 = 1.481e9;               %Matrix longitudinal shear modulus (Pa)\n",
    "num = 0.35;                   %Matrix Poisson's ratio\n",
    "\n",
    "%%Experimental composite properties (measured)\n",
    "%% Tension applied in 1-direction (±45° from reference)\n",
    "E_mod_45 = 12.466557e9;         %Tensile modulus of elasticity from experiment (Pa)\n",
    "\n",
    "%%Build ply orientation (bottom to top of composite ply layup)\n",
    "%NOTES:\n",
    "%% 1. Code is only applicable for symmetric laminate designs\n",
    "%% 2. Code only accounts for 0°, ±30°, ±45°, ±60° and 90° fibre orientations\n",
    "%% 3. h = 2(o0 + o90 + o30 + o45 + o60) MUST follow\n",
    "%%\n",
    "%% symmetric ply layup convention:\n",
    "%% [0/o0/90/o90/30/o30/45/o45/60/o60]\n",
    "%% where:\n",
    "%% o0:  no. of 0° plies\n",
    "%% o90: no. of 90° plies\n",
    "%% o30: no. of ±30° plies\n",
    "%% o45: no. of ±45° plies\n",
    "%% o60: no. of ±60° plies\n",
    "\n",
    "%Define no. of each ply orietation for design laminate\n",
    "o0 = 0;\n",
    "o90 = 0;\n",
    "o30 = 0;\n",
    "o45 = 8;\n",
    "o60 = 0;\n",
    "\n",
    "%MATLAB has no simple function to add numeric values - store ply count in a vector\n",
    "ply_v = [o0 o90 o30 o45 o60];\n",
    "\n",
    "%Total number of plies in the laminate coupon\n",
    "nmp = sum(ply_v);\n",
    "\n",
    "%Ply orientatioms in radians for transform matrix calcs\n",
    "o0_rad = degtorad(0);\n",
    "o90_rad = degtorad(90);\n",
    "o30_rad = degtorad(30);\n",
    "o45p_rad = degtorad(45);\n",
    "o45m_rad = degtorad(-45);\n",
    "o60_rad = degtorad(60);\n",
    "\n",
    "%Define ply design details:\n",
    "tl = 1.95/1000;   %Measured avg. thickness of laminate coupons [m]\n",
    "np = 8;           %no. of ply layers\n",
    "t = t1/np;        %Avg. ply layer thickness [m]\n",
    "t0 =  t*o0;      %total thickness of 0° plies\n",
    "t90 = t*o90;      %total thickness of 90° plies\n",
    "t30 = t*o30;      %total thickness of 30° plies\n",
    "t45 = t*o45;      %total thickness of 45° plies\n",
    "t60 = t*o60;      %total thickness of 60° plies\n",
    "t_vec = [t0 t90 t30 t45 t60]; %Vector for ply thicknesses\n",
    "lt = sum(t_vec);  %total thickness of laminate (sanity check: lt == t1)\n",
    "w = 20.10;          %avg. coupon width [mm]\n",
    "Ww = w/1000;       %avg. coupon width [m]\n",
    "\n",
    "%Compute ply-layer compliance and stiffness constants\n",
    "if np ~= nmp | t1 ~= lt\n",
    "    error(\"User has mis-defined laminate ply layer design. Check design ply layer number.\\n\");\n",
    "    %break\n",
    "else\n",
    "    %%±45° orientation orthotropic composite ply layers\n",
    "    %%----------------------------------------------------------------------------------------\n",
    "    %%Calculated engineering constants (with reference to principle axes)\n",
    "    E11_45 = (Ef1*Vf) + (Em*Vm);                       %Modulus in 1-direction (in fibre direction)\n",
    "    E11_e45 = E_mod_45;                                  %Experimentally-determined modulus\n",
    "    E22_45 = (Ef2*Em) / ((Vm*Ef2)+(Vf*Em));            %Modulus in 2-direction (⊥ to fibre direction)\n",
    "    nu12_45 = (Vm*num) + (Vf*nuf);                     %Poisson's ratio - contraction in the 2-direction (⊥ to fibre direction) \n",
    "                                                      % when an extension is applied in 1-direction (fibre direction)\n",
    "    G12_45 = (Gm*Gf)/((Vm*Gf)+(Vf*Gm));                %Shear modulus in 2-direction (⊥ to fibre direction) on the plane whose \n",
    "                                                      % normal is in direction 1-direction (fibre direction)\n",
    "\n",
    "    %%Compliance matrix constants by rule-of-mixture\n",
    "    S11_45 = 1/E11_45;\n",
    "    S12_45 = -(nu12_45/E11_45);\n",
    "    S21_45 = S12_45;\n",
    "    S22_45 = 1/E22_45;\n",
    "    S66_45 = 1/G12_45;\n",
    "    \n",
    "    %%Compliance matrix constants from experimental data\n",
    "    S11e45 = 1/E11_e45;\n",
    "    S12e45 = -(nu12_0/E11_e45);\n",
    "    S21e45 = S12e45;\n",
    "    S22e45 = 1/E22_45;\n",
    "    S66e45 = 1/G12_45;\n",
    "\n",
    "    %Compute reduced stiffness matrix constants by rule-of-mixture\n",
    "    D_45 = 1-((E22_45/E11_45)*((nu12_45)^2));\n",
    "    Q11_45 = E11_45/D_45;\n",
    "    Q12_45 = (nu12_45*E22_45)/D_45;\n",
    "    Q21_45 = Q12_45;\n",
    "    Q22_45 = E22_45/D_45;\n",
    "    Q66_45 = G12_45;\n",
    "    \n",
    "    %%Compute reduced stiffness matrix constants from experimental data\n",
    "    D_e45 = 1-((E22_45/E11_e45)*((nu12_45)^2));\n",
    "    Q11e45 = E11_e45/D_e45;\n",
    "    Q12e45 = (nu12_45*E22_45)/D_e45;\n",
    "    Q21e45 = Q12e45;\n",
    "    Q22e45 = E22_45/D_e45;\n",
    "    Q66e45 = G12_45;\n",
    "\n",
    "    %Compile compliance matrix\n",
    "    S45 = [S11_45 S12_45 0; S21_45 S22_45 0; 0 0 S66_45];\n",
    "    S45e = [S11e45 S12e45 0; S21e45 S22e45 0; 0 0 S66e45];\n",
    "    %Compile stiffness matrix\n",
    "    Q45 = [Q11_45 Q12_45 0; Q21_45 Q22_45 0; 0 0 Q66_45];\n",
    "    Q45e = [Q11e45 Q12e45 0; Q21e45 Q22e45 0; 0 0 Q66e45];\n",
    "    %Sanity check\n",
    "    Q45_valid = inv(S45);\n",
    "    Q45e_valid = inv(S45e);\n",
    "\n",
    "    %Build the stress & strain transformation matrices\n",
    "    %% transformations are vital in analyses of stress and strain, both because they are needed\n",
    "    %% to compute critical values of these entities and also because the tensorial nature of stress and\n",
    "    %% strain is most clearly seen in their transformation properties. Other entities, such as moment of\n",
    "    %% inertia and curvature, also transform in a manner similar to stress and strain.\n",
    "    \n",
    "    %%Define tranformation angles for +45° plies from reference\n",
    "    c45 = cos(o45p_rad);\n",
    "    ss45 = sin(o45p_rad);\n",
    "    \n",
    "    %%Define tranformation angles for -45° plies from reference\n",
    "    c45m = cos(o45m_rad);\n",
    "    ss45m = sin(o45m_rad);\n",
    "\n",
    "    %For +45° ply layers\n",
    "    %Stress transformation matrix\n",
    "    Tsig45 = [c45^2 ss45^2 2*c45*ss45; ss45^2 c45^2 -2*c45*ss45; -c45*ss45 c45*ss45 ((c45^2)-(ss45^2))];\n",
    "    %Strain transformation matrix\n",
    "    Teps45 = [c45^2 ss45^2 c45*ss45; ss45^2 c45^2 -c45*ss45; -2*c45*ss45 2*c45*ss45 ((c45^2)-(ss45^2))];\n",
    "    \n",
    "    %For -45° ply layers\n",
    "    Tsig45m = [c45m^2 ss45m^2 2*c45m*ss45m; ss45m^2 c45m^2 -2*c45m*ss45m; -c45m*ss45m c45m*ss45m ((c45m^2)-(ss45m^2))];\n",
    "    %Strain transformation matrix\n",
    "    Teps45m = [c45m^2 ss45m^2 c45m*ss45m; ss45m^2 c45m^2 -c45m*ss45m; -2*c45m*ss45m 2*c45m*ss45m ((c45m^2)-(ss45m^2))];\n",
    "    \n",
    "    %Transformed (reduced) stiffness matrix\n",
    "    Qb45 = (inv(Tsig45))*Q45*Teps45;\n",
    "    Qb45e = (inv(Tsig45))*Q45e*Teps45;\n",
    "    Qb45m = (inv(Tsig45m))*Q45*Teps45m;\n",
    "    Qb45em = (inv(Tsig45m))*Q45e*Teps45m; \n",
    "    \n",
    "end\n",
    "\n",
    "\n",
    "%%LAMINATE response to quasi-fatigue loading\n",
    "%%----------------------------------------------------------------------------------------\n",
    "%Define reference axis, z1: the mid-plane of the symmetric laminate layup\n",
    "z1 = 0;\n",
    "\n",
    "%Approximate z0 as the distance covered by the sum total of the +45° plies from the reference plane\n",
    "z0 = z1-(lt/2);\n",
    "\n",
    "%Approximate z2 as the distance covered by the sum total of the -45° plies from the reference plane\n",
    "z2 = z1+(lt/2);\n",
    "\n",
    "%Define A, B and D matrix z multiplicatives\n",
    "zA1 = z1-z0;\n",
    "zA2 = z2-z1;\n",
    "zB1 = ((z1^2)-(z0^2))/2;\n",
    "zB2 = ((z2^2)-(z1^2))/2;\n",
    "zD1 = ((z1^3)-(z0^3))/3;\n",
    "zD2 = ((z2^3)-(z1^3))/3;\n",
    "\n",
    "%Compute the A, B and D matrices - stiffness matrices of the laminate\n",
    "% These matrices describe the in-plane forces & moments on the composite laminate\n",
    "A_pm458T = (Qb45*zA1) + (Qb45m*zA2);\n",
    "B_pm458T = (Qb45*zB1) + (Qb45m*zB2);\n",
    "D_pm458T = (Qb45*zD1) + (Qb45m*zD2);\n",
    "\n",
    "A_pm458T_e = (Qb45e*zA1) + (Qb45em*zA2);\n",
    "B_pm458T_e = (Qb45e*zB1) + (Qb45em*zB2);\n",
    "D_pm458T_e = (Qb45e*zD1) + (Qb45em*zD2);\n",
    "\n",
    "%Compile the global in-plane forces/moments response matrix\n",
    "IPFM = [A_pm458T B_pm458T; B_pm458T D_pm458T];\n",
    "\n",
    "IPFMe = [A_pm458T_e B_pm458T_e; B_pm458T_e D_pm458T_e];\n",
    "\n",
    "%Compute the matrix that describes the strain and curvatures imposed on the laminate\n",
    "IP_inv = inv(IPFM);\n",
    "\n",
    "IP_e_inv = inv(IPFMe);\n",
    "\n",
    "aA_pm458T = IP_inv(1:3,1:3);\n",
    "bB_pm458T = IP_inv(4:6,1:3);\n",
    "dD_pm458T = IP_inv(4:6,4:6);\n",
    "\n",
    "aA_pm458T_e = IP_e_inv(1:3,1:3);\n",
    "bB_pm458T_e = IP_e_inv(4:6,1:3);\n",
    "dD_pm458T_e = IP_e_inv(4:6,4:6);"
   ]
  },
  {
   "cell_type": "markdown",
   "metadata": {
    "slideshow": {
     "slide_type": "slide"
    }
   },
   "source": [
    "#### 4.2.3.1 Matrix calculations output"
   ]
  },
  {
   "cell_type": "code",
   "execution_count": 664,
   "metadata": {
    "slideshow": {
     "slide_type": "fragment"
    }
   },
   "outputs": [
    {
     "name": "stdout",
     "output_type": "stream",
     "text": [
      "+/- 45 deg, 8-Ply carbon fibre/epoxy coupon - tensile quasi-fatigue loading - Computation output: \n",
      " \n",
      "Laminate stiffness matrices\n",
      "----------------------------------\n",
      "[A], units: N/m = \n",
      "      8.788489266297858e+06     2.940494536185871e+06                         0\n",
      "     2.940494536185871e+06     8.788489266297854e+06                         0\n",
      "                         0                         0     4.075879609030623e+06\n",
      " \n",
      "[B], units: N = \n",
      "                          0                         0    -4.148812282814878e+02\n",
      "                         0                         0    -4.148812282814875e+02\n",
      "    -4.148812282814876e+02    -4.148812282814876e+02                         0\n",
      " \n",
      "[D], units: N*m = \n",
      "      7.619620193880244e-01     2.549408762873150e-01                         0\n",
      "     2.549408762873150e-01     7.619620193880241e-01                         0\n",
      "                         0                         0     3.533787621029551e-01\n",
      " \n",
      "Laminate compliance matrices\n",
      "----------------------------------\n",
      "[a], units: m/N = \n",
      "      1.319902255596765e-07    -3.900856054573618e-08                         0\n",
      "    -3.900856054573619e-08     1.319902255596765e-07                         0\n",
      "                         0                         0     2.675693463713098e-07\n",
      " \n",
      "[b], units: 1/N = \n",
      "                          0                         0     1.091643061939369e-04\n",
      "                         0                         0     1.091643061939369e-04\n",
      "     1.091643061939369e-04     1.091643061939369e-04                         0\n",
      " \n",
      "[d], units: 1/(N*m) = \n",
      "      1.522378610838252e+00    -4.499257271711207e-01                         0\n",
      "    -4.499257271711207e-01     1.522378610838253e+00                         0\n",
      "                         0                         0     3.086151630580275e+00\n",
      " \n"
     ]
    }
   ],
   "source": [
    "format long e\n",
    "%%Computation output:\n",
    "fprintf('+/- 45 deg, 8-Ply carbon fibre/epoxy coupon - tensile quasi-fatigue loading - Computation output: \\n')\n",
    "disp(' ')\n",
    "%%----------------------------------------------------------------------------------------\n",
    "fprintf('Laminate stiffness matrices\\n');\n",
    "fprintf('----------------------------------\\n');\n",
    "fprintf('[A], units: N/m = \\n');\n",
    "fprintf(' ');\n",
    "disp(A_pm458T_e)\n",
    "disp(' ')\n",
    "fprintf('[B], units: N = \\n');\n",
    "fprintf(' ');\n",
    "disp(B_pm458T_e)\n",
    "disp(' ')\n",
    "fprintf('[D], units: N*m = \\n');\n",
    "fprintf(' ');\n",
    "disp(D_pm458T_e)\n",
    "disp(' ')\n",
    "fprintf('Laminate compliance matrices\\n');\n",
    "fprintf('----------------------------------\\n');\n",
    "fprintf('[a], units: m/N = \\n');\n",
    "fprintf(' ');\n",
    "disp(aA_pm458T_e)\n",
    "disp(' ')\n",
    "fprintf('[b], units: 1/N = \\n');\n",
    "fprintf(' ');\n",
    "disp(bB_pm458T_e)\n",
    "disp(' ')\n",
    "fprintf('[d], units: 1/(N*m) = \\n');\n",
    "fprintf(' ');\n",
    "disp(dD_pm458T_e)\n",
    "disp(' ')"
   ]
  },
  {
   "cell_type": "markdown",
   "metadata": {},
   "source": [
    "#### 4.2.3.2 Computation output summary:\n",
    "\n",
    "**NOTE**: The expected computation output for this ±45° coupon should model composite laminate structural mechanics theory for orthotropic cross-ply laminates. The computed [B] stiffness matrix is not consistent with that expected of an orthotropic cross-ply laminate. Review of the calculation code suggests that the reference plane definition should be revised."
   ]
  },
  {
   "cell_type": "markdown",
   "metadata": {
    "slideshow": {
     "slide_type": "subslide"
    }
   },
   "source": [
    "<!--------------------------A stiffness matrix------------------------------------------->\n",
    "The computed [A] stiffness matrix for the ±45°, 8-Ply, tension-loaded coupon:\n",
    "\n",
    "$$ [A] =\n",
    "\\begin{bmatrix} 8.788 & 2.940 & 0 \\\\ \n",
    "2.940 & 8.788 & 0 \\\\ \n",
    "0 & 0 & 4.076 \\\\\n",
    "\\end{bmatrix} \n",
    "\\cdot\n",
    "10^{6} \\frac{N}{m} $$\n",
    "\n",
    "Which is consistent with laminate theory for orthotropic, cross-ply laminate layups, where the [A] matrix should be of the form:\n",
    "\n",
    "$$ [A] =\n",
    "\\begin{bmatrix} A_{11} & A_{12} & A_{16} \\\\ \n",
    "A_{12} & A_{22} & A_{26} \\\\ \n",
    "A_{16} & A_{26} & A_{66} \\\\\n",
    "\\end{bmatrix} $$\n",
    "\n",
    "exhibiting:\n",
    "\n",
    "* **Extension–shear coupling**:\n",
    "    * $A_{16} = A_{26} = 0$ for a cross-ply laminate layup (ONLY in the 1-2 plane!)\n",
    "<!-------------------------------------------------------------------------------------------->\n",
    "\n",
    "The computed [B] stiffness matrix:\n",
    "\n",
    "$$ [B] =\n",
    "\\begin{bmatrix} 0 & 0 & -414.881 \\\\ \n",
    "0 & 0 & -414.881 \\\\ \n",
    "-414.881 & -414.881 & 0 \\\\\n",
    "\\end{bmatrix}  N $$\n",
    "\n",
    "This results **is not consistent** with orthotropic, cross-ply laminate theory for laminate layups. The result indicates that the composite exhibited out-of-plane extension-twist coupling, when this was not the case. See not above for possible reasons why the computation does not ring true.\n",
    "<!-------------------------------------------------------------------------------------------->\n",
    "\n",
    "The computed [D] stiffness matrix:\n",
    "\n",
    "$$ [D] =\n",
    "\\begin{bmatrix} 0.762 & 0.255 & 0 \\\\ \n",
    "0.255 & 0.762 & 0 \\\\ \n",
    "0 & 0 & 0.353 \\\\\n",
    "\\end{bmatrix}  N \\cdot m $$\n",
    "\n",
    "<!-------------------------------------------------------------------------------------------->\n",
    "\n",
    "The computed [$\\alpha$] compliance matrix:\n",
    "\n",
    "$$ [\\alpha] =\n",
    "\\begin{bmatrix} 131.990 & -39.009  & 0 \\\\ \n",
    "-39.009 & 131.990 & 0 \\\\ \n",
    "0 & 0 & 267.569 \\\\\n",
    "\\end{bmatrix}\n",
    "\\cdot 10^{-9}\n",
    "\\frac{m}{N}  $$\n",
    "<!-------------------------------------------------------------------------------------------->\n",
    "\n",
    "The computed [$\\beta$] compliance matrix (***inconsistent with orthotropic, cross-ply laminate theory***):\n",
    "\n",
    "$$ [\\beta] =\n",
    "\\begin{bmatrix} 0 & 0  & 1.092 \\\\ \n",
    "0 & 0 & 1.092 \\\\ \n",
    "1.092 & 1.092 & 0 \\\\\n",
    "\\end{bmatrix}\n",
    "\\cdot 10^{-4}\n",
    "\\frac{1}{N}  $$\n",
    "<!-------------------------------------------------------------------------------------------->\n",
    "\n",
    "The computed [$\\delta$] compliance matrix::\n",
    "\n",
    "$$ [\\delta] =\n",
    "\\begin{bmatrix} 1.522 & -0.450 & 0 \\\\ \n",
    "-0.450 & 1.522 & 0 \\\\ \n",
    "0 & 0 & 3.086 \\\\\n",
    "\\end{bmatrix}\n",
    "\\frac{1}{N \\cdot m}  $$\n"
   ]
  },
  {
   "cell_type": "markdown",
   "metadata": {
    "slideshow": {
     "slide_type": "slide"
    }
   },
   "source": [
    "### 4.2.4  UD 45°, 8-Ply tension-loaded coupon"
   ]
  },
  {
   "cell_type": "code",
   "execution_count": 665,
   "metadata": {
    "slideshow": {
     "slide_type": "skip"
    }
   },
   "outputs": [],
   "source": [
    "%Test: quasi-fatigue (tensile) loading of a symmetric, 8-ply UD 45° carbon fibre/epoxy laminate\n",
    "%Laminate type:\n",
    "\n",
    "%%---------------------------------Data inputs---------------------------------------\n",
    "\n",
    "%%Carbon fibre elastic properties\n",
    "Ef1 = 230e9;                  %Fibre longitudinal modulus (Pa)\n",
    "Ef2 = 15e9;                   %Fibre transverse modulus (Pa)\n",
    "Vf = 0.55;                    %Fibre volume fraction\n",
    "Gf12 = 15e9;                  %Fibre longitudinal shear modulus (Pa)\n",
    "nuf = 0.2;                    %Fibre Poisson's ratio\n",
    "\n",
    "%%Epoxy matrix elastic properties\n",
    "Vm = 1 - Vf;                  %Matrix volume fraction\n",
    "Em1 = 4e9;                    %Matrix longitudinal modulus (Pa)\n",
    "Em2 = 4e9;                    %Matrix transverse modulus (Pa)\n",
    "Gm12 = 1.481e9;               %Matrix longitudinal shear modulus (Pa)\n",
    "num = 0.35;                   %Matrix Poisson's ratio\n",
    "\n",
    "%%Experimental composite properties (measured)\n",
    "%% Tension applied in 1-direction (45° from reference)\n",
    "E_mod_45d = 8.989689e9;         %Tensile modulus of elasticity from experiment (Pa)\n",
    "\n",
    "%%Build ply orientation (bottom to top of composite ply layup)\n",
    "%NOTES:\n",
    "%% 1. Code is only applicable for symmetric laminate designs\n",
    "%% 2. Code only accounts for 0°, ±30°, ±45°, ±60° and 90° fibre orientations\n",
    "%% 3. h = 2(o0 + o90 + o30 + o45 + o60) MUST follow\n",
    "%%\n",
    "%% symmetric ply layup convention:\n",
    "%% [0/o0/90/o90/30/o30/45/o45/60/o60]\n",
    "%% where:\n",
    "%% o0:  no. of 0° plies\n",
    "%% o90: no. of 90° plies\n",
    "%% o30: no. of ±30° plies\n",
    "%% o45: no. of ±45° plies\n",
    "%% o60: no. of ±60° plies\n",
    "\n",
    "%Define no. of each ply orietation for design laminate\n",
    "o0 = 0;\n",
    "o90 = 0;\n",
    "o30 = 0;\n",
    "o45 = 8;\n",
    "o60 = 0;\n",
    "\n",
    "%MATLAB has no simple function to add numeric values - store ply count in a vector\n",
    "ply_v = [o0 o90 o30 o45 o60];\n",
    "\n",
    "%Total number of plies in the laminate coupon\n",
    "nmp = sum(ply_v);\n",
    "\n",
    "%Ply orientatioms in radians for transform matrix calcs\n",
    "o0_rad = degtorad(0);\n",
    "o90_rad = degtorad(90);\n",
    "o30_rad = degtorad(30);\n",
    "o45_rad = degtorad(45);\n",
    "o60_rad = degtorad(60);\n",
    "\n",
    "%Define ply design details:\n",
    "tl = 2.01/1000;   %Measured avg. thickness of laminate coupons [m]\n",
    "np = 8;           %no. of ply layers\n",
    "t = t1/np;        %Avg. ply layer thickness [m]\n",
    "t0 =  t*o0;      %total thickness of 0° plies\n",
    "t90 = t*o90;      %total thickness of 90° plies\n",
    "t30 = t*o30;      %total thickness of 30° plies\n",
    "t45 = t*o45;      %total thickness of 45° plies\n",
    "t60 = t*o60;      %total thickness of 60° plies\n",
    "t_vec = [t0 t90 t30 t45 t60]; %Vector for ply thicknesses\n",
    "lt = sum(t_vec);  %total thickness of laminate (sanity check: lt == t1)\n",
    "w = 20.06;          %avg. coupon width [mm]\n",
    "Ww = w/1000;       %avg. coupon width [m]\n",
    "\n",
    "%Compute ply-layer compliance and stiffness constants\n",
    "if np ~= nmp | t1 ~= lt\n",
    "    error(\"User has mis-defined laminate ply layer design. Check design ply layer number.\\n\");\n",
    "    %break\n",
    "else\n",
    "    %%45° orientation orthotropic composite ply layers\n",
    "    %%----------------------------------------------------------------------------------------\n",
    "    %%Calculated engineering constants (with reference to principle axes)\n",
    "    E11_45 = (Ef1*Vf) + (Em*Vm);                       %Modulus in 1-direction (in fibre direction)\n",
    "    E11_e45 = E_mod_45d;                                %Experimentally-determined modulus\n",
    "    E22_45 = (Ef2*Em) / ((Vm*Ef2)+(Vf*Em));            %Modulus in 2-direction (⊥ to fibre direction)\n",
    "    nu12_45 = (Vm*num) + (Vf*nuf);                     %Poisson's ratio - contraction in the 2-direction (⊥ to fibre direction) \n",
    "                                                         % when an extension is applied in 1-direction (fibre direction)\n",
    "    G12_45 = (Gm*Gf)/((Vm*Gf)+(Vf*Gm));                %Shear modulus in 2-direction (⊥ to fibre direction) on the plane whose \n",
    "                                                         % normal is in direction 1-direction (fibre direction)\n",
    "\n",
    "    %%Compliance matrix constants by rule-of-mixture\n",
    "    S11_45 = 1/E11_45;\n",
    "    S12_45 = -(nu12_45/E11_45);\n",
    "    S21_45 = S12_45;\n",
    "    S22_45 = 1/E22_45;\n",
    "    S66_45 = 1/G12_45;\n",
    "    \n",
    "    %%Compliance matrix constants from experimental data\n",
    "    S11e45 = 1/E11_e45;\n",
    "    S12e45 = -(nu12_0/E11_e45);\n",
    "    S21e45 = S12e45;\n",
    "    S22e45 = 1/E22_45;\n",
    "    S66e45 = 1/G12_45;\n",
    "\n",
    "    %Compute reduced stiffness matrix constants by rule-of-mixture\n",
    "    D_45 = 1-((E22_45/E11_45)*((nu12_45)^2));\n",
    "    Q11_45 = E11_45/D_45;\n",
    "    Q12_45 = (nu12_45*E22_45)/D_45;\n",
    "    Q21_45 = Q12_45;\n",
    "    Q22_45 = E22_45/D_45;\n",
    "    Q66_45 = G12_45;\n",
    "    \n",
    "    %%Compute reduced stiffness matrix constants from experimental data\n",
    "    D_e45 = 1-((E22_45/E11_e45)*((nu12_45)^2));\n",
    "    Q11e45 = E11_e45/D_e45;\n",
    "    Q12e45 = (nu12_45*E22_45)/D_e45;\n",
    "    Q21e45 = Q12e45;\n",
    "    Q22e45 = E22_45/D_e45;\n",
    "    Q66e45 = G12_45;\n",
    "\n",
    "    %Compile compliance matrix\n",
    "    S45 = [S11_45 S12_45 0; S21_45 S22_45 0; 0 0 S66_45];\n",
    "    S45e = [S11e45 S12e45 0; S21e45 S22e45 0; 0 0 S66e45];\n",
    "    %Compile stiffness matrix\n",
    "    Q45 = [Q11_45 Q12_45 0; Q21_45 Q22_45 0; 0 0 Q66_45];\n",
    "    Q45e = [Q11e45 Q12e45 0; Q21e45 Q22e45 0; 0 0 Q66e45];\n",
    "    %Sanity check\n",
    "    Q45_valid = inv(S45);\n",
    "    Q45e_valid = inv(S45e);\n",
    "\n",
    "    %Build the stress & strain transformation matrices\n",
    "    %% transformations are vital in analyses of stress and strain, both because they are needed\n",
    "    %% to compute critical values of these entities and also because the tensorial nature of stress and\n",
    "    %% strain is most clearly seen in their transformation properties. Other entities, such as moment of\n",
    "    %% inertia and curvature, also transform in a manner similar to stress and strain.\n",
    "    \n",
    "    %%Define tranformation angles for +45° plies from reference\n",
    "    c45 = cos(o45_rad);\n",
    "    ss45 = sin(o45_rad);\n",
    "    \n",
    "    %For +45° ply layers\n",
    "    %Stress transformation matrix\n",
    "    Tsig45 = [c45^2 ss45^2 2*c45*ss45; ss45^2 c45^2 -2*c45*ss45; -c45*ss45 c45*ss45 ((c45^2)-(ss45^2))];\n",
    "    %Strain transformation matrix\n",
    "    Teps45 = [c45^2 ss45^2 c45*ss45; ss45^2 c45^2 -c45*ss45; -2*c45*ss45 2*c45*ss45 ((c45^2)-(ss45^2))];\n",
    "    \n",
    "    %Transformed (reduced) stiffness matrix\n",
    "    Qb45 = (inv(Tsig45))*Q45*Teps45;\n",
    "    Qb45e = (inv(Tsig45))*Q45e*Teps45;\n",
    "    \n",
    "end\n",
    "\n",
    "\n",
    "%%LAMINATE response to quasi-fatigue loading\n",
    "%%----------------------------------------------------------------------------------------\n",
    "%Define reference axis, z1: the mid-plane of the symmetric laminate layup\n",
    "z1 = 0;\n",
    "\n",
    "%Approximate z0 as the distance covered by the sum total of the +45° plies from the reference plane\n",
    "z0 = z1-(lt/2);\n",
    "\n",
    "%Approximate z2 as the distance covered by the sum total of the -45° plies from the reference plane\n",
    "z2 = z1+(lt/2);\n",
    "\n",
    "%Define A, B and D matrix z multiplicatives\n",
    "zA1 = z1-z0;\n",
    "zA2 = z2-z1;\n",
    "zB1 = ((z1^2)-(z0^2))/2;\n",
    "zB2 = ((z2^2)-(z1^2))/2;\n",
    "zD1 = ((z1^3)-(z0^3))/3;\n",
    "zD2 = ((z2^3)-(z1^3))/3;\n",
    "\n",
    "%Compute the A, B and D matrices - stiffness matrices of the laminate\n",
    "% These matrices describe the in-plane forces & moments on the composite laminate\n",
    "A_UD458T = (Qb45*zA1) + (Qb45*zA2);\n",
    "B_UD458T = (Qb45*zB1) + (Qb45*zB2);\n",
    "D_UD458T = (Qb45*zD1) + (Qb45*zD2);\n",
    "\n",
    "A_UD458T_e = (Qb45e*zA1) + (Qb45e*zA2);\n",
    "B_UD458T_e = (Qb45e*zB1) + (Qb45e*zB2);\n",
    "D_UD458T_e = (Qb45e*zD1) + (Qb45e*zD2);\n",
    "\n",
    "%Compile the global in-plane forces/moments response matrix\n",
    "IPFM = [A_UD458T B_UD458T; B_UD458T D_UD458T];\n",
    "\n",
    "IPFMe = [A_UD458T_e B_UD458T_e; B_UD458T_e D_UD458T_e];\n",
    "\n",
    "%Compute the matrix that describes the strain and curvatures imposed on the laminate\n",
    "IP_inv = inv(IPFM);\n",
    "\n",
    "IP_e_inv = inv(IPFMe);\n",
    "\n",
    "aA_UD458T = IP_inv(1:3,1:3);\n",
    "bB_UD458T = IP_inv(4:6,1:3);\n",
    "dD_UD458T = IP_inv(4:6,4:6);\n",
    "\n",
    "aA_UD458T_e = IP_e_inv(1:3,1:3);\n",
    "bB_UD458T_e = IP_e_inv(4:6,1:3);\n",
    "dD_UD458T_e = IP_e_inv(4:6,4:6);"
   ]
  },
  {
   "cell_type": "markdown",
   "metadata": {},
   "source": [
    "#### 4.2.4.1 Matrix calculations output"
   ]
  },
  {
   "cell_type": "code",
   "execution_count": 666,
   "metadata": {
    "slideshow": {
     "slide_type": "fragment"
    }
   },
   "outputs": [
    {
     "name": "stdout",
     "output_type": "stream",
     "text": [
      "UD 45 deg, 8-Ply carbon fibre/epoxy coupon - tensile quasi-fatigue loading - Computation output: \n",
      " \n",
      "Laminate stiffness matrices\n",
      "----------------------------------\n",
      "[A], units: N/m = \n",
      "      7.941546007712099e+06     2.093551277600112e+06     7.174650960587006e+05\n",
      "     2.093551277600113e+06     7.941546007712100e+06     7.174650960587006e+05\n",
      "     7.174650960587006e+05     7.174650960587004e+05     3.202523240344775e+06\n",
      " \n",
      "[B], units: N = \n",
      "      0     0     0\n",
      "     0     0     0\n",
      "     0     0     0\n",
      " \n",
      "[D], units: N*m = \n",
      "      6.885320388686390e-01     1.815108957679298e-01     6.220422382828935e-02\n",
      "     1.815108957679298e-01     6.885320388686391e-01     6.220422382828935e-02\n",
      "     6.220422382828935e-02     6.220422382828933e-02     2.776587649378920e-01\n",
      " \n",
      "Laminate compliance matrices\n",
      "----------------------------------\n",
      "[a], units: m/N = \n",
      "      1.369734655099877e-07    -3.402532059542498e-08    -2.306359552670725e-08\n",
      "    -3.402532059542500e-08     1.369734655099877e-07    -2.306359552670724e-08\n",
      "    -2.306359552670724e-08    -2.306359552670724e-08     3.225877135083135e-07\n",
      " \n",
      "[b], units: 1/N = \n",
      "      0     0     0\n",
      "     0     0     0\n",
      "     0     0     0\n",
      " \n",
      "[d], units: 1/(N*m) = \n",
      "      1.579855426874137e+00    -3.924489111352362e-01    -2.660160960404526e-01\n",
      "    -3.924489111352364e-01     1.579855426874136e+00    -2.660160960404525e-01\n",
      "    -2.660160960404526e-01    -2.660160960404525e-01     3.720734873221608e+00\n",
      " \n"
     ]
    }
   ],
   "source": [
    "format long e\n",
    "%%Computation output:\n",
    "fprintf('UD 45 deg, 8-Ply carbon fibre/epoxy coupon - tensile quasi-fatigue loading - Computation output: \\n')\n",
    "disp(' ')\n",
    "%%----------------------------------------------------------------------------------------\n",
    "fprintf('Laminate stiffness matrices\\n');\n",
    "fprintf('----------------------------------\\n');\n",
    "fprintf('[A], units: N/m = \\n');\n",
    "fprintf(' ');\n",
    "disp(A_UD458T_e)\n",
    "disp(' ')\n",
    "fprintf('[B], units: N = \\n');\n",
    "fprintf(' ');\n",
    "disp(B_UD458T_e)\n",
    "disp(' ')\n",
    "fprintf('[D], units: N*m = \\n');\n",
    "fprintf(' ');\n",
    "disp(D_UD458T_e)\n",
    "disp(' ')\n",
    "fprintf('Laminate compliance matrices\\n');\n",
    "fprintf('----------------------------------\\n');\n",
    "fprintf('[a], units: m/N = \\n');\n",
    "fprintf(' ');\n",
    "disp(aA_UD458T_e)\n",
    "disp(' ')\n",
    "fprintf('[b], units: 1/N = \\n');\n",
    "fprintf(' ');\n",
    "disp(bB_UD458T_e)\n",
    "disp(' ')\n",
    "fprintf('[d], units: 1/(N*m) = \\n');\n",
    "fprintf(' ');\n",
    "disp(dD_UD458T_e)\n",
    "disp(' ')"
   ]
  },
  {
   "cell_type": "markdown",
   "metadata": {},
   "source": [
    "#### 4.2.4.2 Computation output summary:"
   ]
  },
  {
   "cell_type": "markdown",
   "metadata": {
    "slideshow": {
     "slide_type": "subslide"
    }
   },
   "source": [
    "<!--------------------------A stiffness matrix------------------------------------------->\n",
    "The computed [A] stiffness matrix for the UD 45°, 8-Ply, tension-loaded coupon:\n",
    "\n",
    "$$ [A] =\n",
    "\\begin{bmatrix} 7.942 & 2.094 & 0.717 \\\\ \n",
    "2.094 & 7.942 & 0.717 \\\\ \n",
    "0.717 & 0.717 & 3.203 \\\\\n",
    "\\end{bmatrix} \n",
    "\\cdot\n",
    "10^{6} \\frac{N}{m} $$\n",
    "\n",
    "Which is consistent with laminate theory for symmetric laminate layups, where the [A] matrix should be of the form:\n",
    "\n",
    "$$ [A] =\n",
    "\\begin{bmatrix} A_{11} & A_{12} & A_{16} \\\\ \n",
    "A_{12} & A_{22} & A_{26} \\\\ \n",
    "A_{16} & A_{26} & A_{66} \\\\\n",
    "\\end{bmatrix} $$\n",
    "\n",
    "exhibiting:\n",
    "\n",
    "* **Extension–shear coupling**:\n",
    "    * $A_{16} = A_{26} ≠ 0$ for a symmetric laminate layup (ONLY in the 1-2 plane!)\n",
    "<!-------------------------------------------------------------------------------------------->\n",
    "\n",
    "The computed [B] stiffness matrix:\n",
    "\n",
    "$$ [B] =\n",
    "\\begin{bmatrix} 0 & 0 & 0 \\\\ \n",
    "0 & 0 & 0 \\\\ \n",
    "0 & 0 & 0 \\\\\n",
    "\\end{bmatrix}  N $$\n",
    "\n",
    "Which is consistent with laminate theory for symmetric laminate layups, where the [B] matrix should take this form as the laminate should not exhibit out-of-plane extension-twist coupling.\n",
    "<!-------------------------------------------------------------------------------------------->\n",
    "\n",
    "The computed [D] stiffness matrix:\n",
    "\n",
    "$$ [D] =\n",
    "\\begin{bmatrix} 0.689 & 0.182 & 0.062 \\\\ \n",
    "0.182 & 0.689 & 0.062 \\\\ \n",
    "0.062 & 0.062 & 0.278 \\\\\n",
    "\\end{bmatrix}  N \\cdot m $$\n",
    "\n",
    "Which is consistent with laminate theory for symmetric laminate layups, where the [D] matrix should take the form:\n",
    "\n",
    "subject to:\n",
    "\n",
    "* **Bending–twist coupling**:\n",
    "    * $D_{16} = D_{26} ≠ 0$ for a symmetric laminate layups (ONLY in the 1-2 plane!)\n",
    "\n",
    "<!-------------------------------------------------------------------------------------------->\n",
    "\n",
    "The computed [$\\alpha$] compliance matrix:\n",
    "\n",
    "$$ [\\alpha] =\n",
    "\\begin{bmatrix} 136.973 & -34.025  & -23.064 \\\\ \n",
    "-34.025 & 136.973 & -23.064 \\\\ \n",
    "-23.064 & -23.064 & 322.587 \\\\\n",
    "\\end{bmatrix}\n",
    "\\cdot 10^{-9}\n",
    "\\frac{m}{N}  $$\n",
    "<!-------------------------------------------------------------------------------------------->\n",
    "\n",
    "The computed [$\\beta$] compliance matrix:\n",
    "\n",
    "$$ [\\beta] =\n",
    "\\begin{bmatrix} 0 & 0  & 0 \\\\ \n",
    "0 & 0 & 0 \\\\ \n",
    "0 & 0 & 0 \\\\\n",
    "\\end{bmatrix}\n",
    "\\frac{1}{N}  $$\n",
    "<!-------------------------------------------------------------------------------------------->\n",
    "\n",
    "The computed [$\\delta$] compliance matrix::\n",
    "\n",
    "$$ [\\delta] =\n",
    "\\begin{bmatrix} 1.580 & -0.392 & -0.266 \\\\ \n",
    "-0.392 & 1.580 & -0.266 \\\\ \n",
    "-0.266 & -0.266 & 3.721 \\\\\n",
    "\\end{bmatrix}\n",
    "\\frac{1}{N \\cdot m}  $$\n"
   ]
  },
  {
   "cell_type": "markdown",
   "metadata": {
    "slideshow": {
     "slide_type": "slide"
    }
   },
   "source": [
    "### 4.2.5  UD 0°, 4-Ply compression-loaded coupon"
   ]
  },
  {
   "cell_type": "code",
   "execution_count": 679,
   "metadata": {
    "slideshow": {
     "slide_type": "skip"
    }
   },
   "outputs": [],
   "source": [
    "%Test: quasi-fatigue (compression) loading of a symmetric, 4-ply UD 0° carbon fibre/epoxy laminate\n",
    "%Laminate type: Symmetric, orthotropic\n",
    "\n",
    "%%---------------------------------Data inputs---------------------------------------\n",
    "\n",
    "%%Carbon fibre elastic properties (compression)\n",
    "Ef1 = 230e9;                %Fibre longitudinal compression modulus (Pa)\n",
    "Ef2 = 15e9;                   %Fibre transverse modulus (Pa)\n",
    "Vf = 0.55;                    %Fibre volume fraction\n",
    "Gf12 = 15e9;                  %Fibre longitudinal shear modulus (Pa)\n",
    "nuf = 0.2;                    %Fibre Poisson's ratio\n",
    "\n",
    "%%Epoxy matrix elastic properties\n",
    "Vm = 1 - Vf;                  %Matrix volume fraction\n",
    "Em1 = 4e9;                    %Matrix longitudinal modulus (Pa)\n",
    "Em2 = 4e9;                    %Matrix transverse modulus (Pa)\n",
    "Gm12 = 1.481e9;               %Matrix longitudinal shear modulus (Pa)\n",
    "num = 0.35;                   %Matrix Poisson's ratio\n",
    "\n",
    "%%Experimental composite properties (measured)\n",
    "%% Compression applied in 1 (fibre-oriented) direction\n",
    "E_Cmod = 99.225986e9;         %Compression modulus of elasticity from experiment (Pa)\n",
    "\n",
    "%%Build ply orientation (bottom to top of composite ply layup)\n",
    "%NOTES:\n",
    "%% 1. Code is only applicable for symmetric laminate designs\n",
    "%% 2. Code only accounts for 0°, ±30°, ±45°, ±60° and 90° fibre orientations\n",
    "%% 3. h = 2(o0 + o90 + o30 + o45 + o60) MUST follow\n",
    "%%\n",
    "%% symmetric ply layup convention:\n",
    "%% [0/o0/90/o90/30/o30/45/o45/60/o60]\n",
    "%% where:\n",
    "%% o0:  no. of 0° plies\n",
    "%% o90: no. of 90° plies\n",
    "%% o30: no. of ±30° plies\n",
    "%% o45: no. of ±45° plies\n",
    "%% o60: no. of ±60° plies\n",
    "\n",
    "%Define no. of each ply orietation for design laminate\n",
    "o0 = 4;\n",
    "o90 = 0;\n",
    "o30 = 0;\n",
    "o45 = 0;\n",
    "o60 = 0;\n",
    "\n",
    "%MATLAB has no simple function to add numeric values - store ply count in a vector\n",
    "ply_v = [o0 o90 o30 o45 o60];\n",
    "\n",
    "%Total number of plies in the laminate coupon\n",
    "nmp = sum(ply_v);\n",
    "\n",
    "%Ply orientatioms in radians for transform matrix calcs\n",
    "o0_rad = degtorad(0);\n",
    "o90_rad = degtorad(90);\n",
    "o30_rad = degtorad(30);\n",
    "o45_rad = degtorad(45);\n",
    "o60_rad = degtorad(60);\n",
    "\n",
    "%Define ply design details:\n",
    "tl = 1.01/1000;   %Measured avg. thickness of laminate coupons [m]\n",
    "np = 4;           %no. of ply layers\n",
    "t = t1/np;        %Avg. ply layer thickness [m]\n",
    "t0 =  t*o0;      %total thickness of 0° plies\n",
    "t90 = t*o90;      %total thickness of 90° plies\n",
    "t30 = t*o30;      %total thickness of 30° plies\n",
    "t45 = t*o45;      %total thickness of 45° plies\n",
    "t60 = t*o60;      %total thickness of 60° plies\n",
    "t_vec = [t0 t90 t30 t45 t60]; %Vector for ply thicknesses\n",
    "lt = sum(t_vec);  %total thickness of laminate (sanity check: lt == t1)\n",
    "w = 9.98;          %avg. coupon width [mm]\n",
    "Ww = w/1000;       %avg. coupon width [m]\n",
    "\n",
    "%Compute ply-layer compliance and stiffness constants\n",
    "if np ~= nmp | t1 ~= lt\n",
    "    error(\"User has mis-defined laminate ply layer design. Check design ply layer number.\\n\");\n",
    "    %break\n",
    "else\n",
    "    %%0° orientation orthotropic composite ply layers\n",
    "    %%----------------------------------------------------------------------------------------\n",
    "    %%Calculated engineering constants (with reference to principle axes)\n",
    "    E11_0C = ((Ef1*Vf) + (Em*Vm));                       %Modulus in 1-direction (in fibre direction)\n",
    "    E11_eC = E_Cmod;                                     %Experimentally-determined modulus\n",
    "    E22_0C = (Ef2*Em) / ((Vm*Ef2)+(Vf*Em));              %Modulus in 2-direction (⊥ to fibre direction)\n",
    "    nu12_0C = (Vm*num) + (Vf*nuf);                       %Poisson's ratio - contraction in the 2-direction (⊥ to fibre direction) \n",
    "                                                           % when an extension is applied in 1-direction (fibre direction)\n",
    "    G12_0C = (Gm*Gf)/((Vm*Gf)+(Vf*Gm));                 %Shear modulus in 2-direction (⊥ to fibre direction) on the plane whose \n",
    "                                                           % normal is in direction 1-direction (fibre direction)\n",
    "\n",
    "    %%Compliance matrix constants by rule-of-mixture\n",
    "    S11_0C = 1/E11_0C;\n",
    "    S12_0C = -(nu12_0C/E11_0C);\n",
    "    S21_0C = S12_0C;\n",
    "    S22_0C = 1/E22_0C;\n",
    "    S66_0C = 1/G12_0C;\n",
    "    \n",
    "    %%Compliance matrix constants from experimental data\n",
    "    S11eC = 1/E11_eC;\n",
    "    S12eC = -(nu12_0/E11_eC);\n",
    "    S21eC = S12eC;\n",
    "    S22eC = 1/E22_0C;\n",
    "    S66eC = 1/G12_0C;\n",
    "\n",
    "    %Compute reduced stiffness matrix constants by rule-of-mixture\n",
    "    D_0C = 1-((E22_0C/E11_0C)*((nu12_0C)^2));\n",
    "    Q11_0C = E11_0C/D_0C;\n",
    "    Q12_0C = (nu12_0C*E22_0C)/D_0C;\n",
    "    Q21_0C = Q12_0C;\n",
    "    Q22_0C = E22_0C/D_0C;\n",
    "    Q66_0C = G12_0C;\n",
    "    \n",
    "    %%Compute reduced stiffness matrix constants from experimental data\n",
    "    D_eC = 1-((E22_0C/E11_eC)*((nu12_0C)^2));\n",
    "    Q11eC = E11_eC/D_eC;\n",
    "    Q12eC = (nu12_0C*E22_0C)/D_eC;\n",
    "    Q21eC = Q12eC;\n",
    "    Q22eC = E22_0C/D_eC;\n",
    "    Q66eC = G12_0C;\n",
    "\n",
    "    %Compile compliance matrix\n",
    "    S0C = [S11_0C S12_0C 0; S21_0C S22_0C 0; 0 0 S66_0C];\n",
    "    S0eC = [S11eC S12eC 0; S21eC S22eC 0; 0 0 S66eC];\n",
    "    %Compile stiffness matrix\n",
    "    Q0C = [Q11_0C Q12_0C 0; Q21_0C Q22_0C 0; 0 0 Q66_0C];\n",
    "    Q0eC = [Q11eC Q12eC 0; Q21eC Q22eC 0; 0 0 Q66eC];\n",
    "    %Sanity check\n",
    "    Q0C_valid = inv(S0C);\n",
    "    Q0eC_valid = inv(S0eC);\n",
    "\n",
    "    %Build the stress & strain transformation matrices\n",
    "    %% transformations are vital in analyses of stress and strain, both because they are needed\n",
    "    %% to compute critical values of these entities and also because the tensorial nature of stress and\n",
    "    %% strain is most clearly seen in their transformation properties. Other entities, such as moment of\n",
    "    %% inertia and curvature, also transform in a manner similar to stress and strain.\n",
    "    c0C = cos(o0_rad);\n",
    "    ss0C = sin(o0_rad);\n",
    "    %Stress transformation matrix\n",
    "    Tsig0C = [c0C^2 ss0C^2 2*c0C*ss0C; ss0C^2 c0C^2 -2*c0C*ss0C; -c0C*ss0C c0C*ss0C ((c0C^2)-(ss0C^2))];\n",
    "    %Strain transformation matrix\n",
    "    Teps0C = [c0C^2 ss0C^2 c0C*ss0C; ss0C^2 c0C^2 -c0C*ss0C; -2*c0C*ss0C 2*c0C*ss0C ((c0C^2)-(ss0C^2))];\n",
    "    %Transformed (reduced) stiffness matrix\n",
    "    Qb0C = (inv(Tsig0C))*Q0C*Teps0C;\n",
    "    Qb0eC = (inv(Tsig0C))*Q0eC*Teps0C;\n",
    "end\n",
    "\n",
    "\n",
    "%%LAMINATE response to quasi-fatigue loading\n",
    "%%----------------------------------------------------------------------------------------\n",
    "%Define reference axis, z1: the mid-plane of the symmetric laminate layup\n",
    "z1 = 0;\n",
    "\n",
    "%Define lower edge of 0° laminate section\n",
    "z0 = z1-(lt/2);\n",
    "\n",
    "%Define upper edge of 0° laminate section\n",
    "\n",
    "z2 = z1+(lt/2);\n",
    "\n",
    "%Define A, B and D matrix z multiplicatives\n",
    "zA1 = z1-z0;\n",
    "zA2 = z2-z1;\n",
    "zB1 = ((z1^2)-(z0^2))/2;\n",
    "zB2 = ((z2^2)-(z1^2))/2;\n",
    "zD1 = ((z1^3)-(z0^3))/3;\n",
    "zD2 = ((z2^3)-(z1^3))/3;\n",
    "\n",
    "%Compute the A, B and D matrices - stiffness matrices of the laminate\n",
    "% These matrices describe the in-plane forces & moments on the composite laminate\n",
    "A_UD04C = (Qb0C*zA1) + (Qb0C*zA2);\n",
    "B_UD04C = (Qb0C*zB1) + (Qb0C*zB2);\n",
    "D_UD04C = (Qb0C*zD1) + (Qb0C*zD2);\n",
    "\n",
    "A_UD04C_e = (Qb0eC*zA1) + (Qb0eC*zA2);\n",
    "B_UD04C_e = (Qb0eC*zB1) + (Qb0eC*zB2);\n",
    "D_UD04C_e = (Qb0eC*zD1) + (Qb0eC*zD2);\n",
    "\n",
    "%Compile the global in-plane forces/moments response matrix\n",
    "IPFM_C = [A_UD04C B_UD04C; B_UD04C D_UD04C];\n",
    "\n",
    "IPFMe_C = [A_UD04C_e B_UD04C_e; B_UD04C_e D_UD04C_e];\n",
    "\n",
    "%Compute the matrix that describes the strain and curvatures imposed on the laminate\n",
    "IPC_inv = inv(IPFM_C);\n",
    "\n",
    "IPC_e_inv = inv(IPFMe_C);\n",
    "\n",
    "aA_UD04C = IPC_inv(1:3,1:3);\n",
    "bB_UD04C = IPC_inv(4:6,1:3);\n",
    "dD_UD04C = IPC_inv(4:6,4:6);\n",
    "\n",
    "aA_UD04C_e = IPC_e_inv(1:3,1:3);\n",
    "bB_UD04C_e = IPC_e_inv(4:6,1:3);\n",
    "dD_UD04C_e = IPC_e_inv(4:6,4:6);\n",
    "\n",
    "%%Computation output:\n",
    "%%----------------------------------------------------------------------------------------\n",
    "% fprintf('Predicted elastic constant values:\\n');\n",
    "% fprintf('----------------------------------\\n');\n",
    "% fprintf('E11 modulus: %.3f GPa\\n', E11/1e9);\n",
    "% fprintf('E22 modulus: %.3f GPa\\n', E22/1e9);\n",
    "% fprintf('nu12: %.3f\\n', nu12);\n",
    "% fprintf('G12: %.3f GPa\\n', G12/1e9);\n",
    "% fprintf(' \\n');\n",
    "% fprintf('Empirically-determined E11 modulus: %.3f GPa\\n', E_mod/1e9);\n"
   ]
  },
  {
   "cell_type": "markdown",
   "metadata": {},
   "source": [
    "#### 4.2.5.1 Matrix calculations output"
   ]
  },
  {
   "cell_type": "code",
   "execution_count": 680,
   "metadata": {
    "slideshow": {
     "slide_type": "fragment"
    }
   },
   "outputs": [
    {
     "name": "stdout",
     "output_type": "stream",
     "text": [
      "UD 0 deg, 4-Ply carbon fibre/epoxy coupon - compression quasi-fatigue loading - Computation output: \n",
      " \n",
      "Laminate stiffness matrices\n",
      "----------------------------------\n",
      "[A], units: N/m = \n",
      "      1.016737201512125e+08     1.731642733504828e+06                         0\n",
      "     1.731642733504828e+06     6.473430779457300e+06                         0\n",
      "                         0                         0     2.923997365055993e+06\n",
      " \n",
      "[B], units: N = \n",
      "      0     0     0\n",
      "     0     0     0\n",
      "     0     0     0\n",
      " \n",
      "[D], units: N*m = \n",
      "      8.815111537110129e+00     1.501334249948686e-01                         0\n",
      "     1.501334249948686e-01     5.612464485789480e-01                         0\n",
      "                         0                         0     2.535105715503547e-01\n",
      " \n",
      "Laminate compliance matrices\n",
      "----------------------------------\n",
      "[a], units: m/N = \n",
      "      9.880397226415519e-09    -2.643006258066151e-09                         0\n",
      "    -2.643006258066151e-09     1.551845963610669e-07                         0\n",
      "                         0                         0     3.419975722108253e-07\n",
      " \n",
      "[b], units: 1/N = \n",
      "      0     0     0\n",
      "     0     0     0\n",
      "     0     0     0\n",
      " \n",
      "[d], units: 1/(N*m) = \n",
      "      1.139607523231317e-01    -3.048450124643772e-02                         0\n",
      "    -3.048450124643772e-02     1.789903072215305e+00                         0\n",
      "                         0                         0     3.944608676018746e+00\n",
      " \n"
     ]
    }
   ],
   "source": [
    "format long e\n",
    "%%Computation output:\n",
    "fprintf('UD 0 deg, 4-Ply carbon fibre/epoxy coupon - compression quasi-fatigue loading - Computation output: \\n')\n",
    "disp(' ')\n",
    "%%----------------------------------------------------------------------------------------\n",
    "fprintf('Laminate stiffness matrices\\n');\n",
    "fprintf('----------------------------------\\n');\n",
    "fprintf('[A], units: N/m = \\n');\n",
    "fprintf(' ');\n",
    "disp(A_UD04C_e)\n",
    "disp(' ')\n",
    "fprintf('[B], units: N = \\n');\n",
    "fprintf(' ');\n",
    "disp(B_UD04C_e)\n",
    "disp(' ')\n",
    "fprintf('[D], units: N*m = \\n');\n",
    "fprintf(' ');\n",
    "disp(D_UD04C_e)\n",
    "disp(' ')\n",
    "fprintf('Laminate compliance matrices\\n');\n",
    "fprintf('----------------------------------\\n');\n",
    "fprintf('[a], units: m/N = \\n');\n",
    "fprintf(' ');\n",
    "disp(aA_UD04C_e)\n",
    "disp(' ')\n",
    "fprintf('[b], units: 1/N = \\n');\n",
    "fprintf(' ');\n",
    "disp(bB_UD04C_e)\n",
    "disp(' ')\n",
    "fprintf('[d], units: 1/(N*m) = \\n');\n",
    "fprintf(' ');\n",
    "disp(dD_UD04C_e)\n",
    "disp(' ')"
   ]
  },
  {
   "cell_type": "markdown",
   "metadata": {},
   "source": [
    "#### 4.2.5.2 Computation output summary:"
   ]
  },
  {
   "cell_type": "markdown",
   "metadata": {
    "slideshow": {
     "slide_type": "subslide"
    }
   },
   "source": [
    "<!--------------------------A stiffness matrix------------------------------------------->\n",
    "The computed [$A_{compression}$] stiffness matrix for the UD 0°, 4-Ply, compression-loaded coupon:\n",
    "\n",
    "$$ [A] =\n",
    "\\begin{bmatrix} 101.673 & 1.732 & 0 \\\\ \n",
    "1.732 & 6.473 & 0 \\\\ \n",
    "0 & 0 & 2.924 \\\\\n",
    "\\end{bmatrix} \n",
    "\\cdot\n",
    "10^{6} \\frac{N}{m} $$\n",
    "\n",
    "Which is consistent with laminate theory for symmetric laminate layups, where the [A] matrix should be of the form:\n",
    "\n",
    "$$ [A] =\n",
    "\\begin{bmatrix} A_{11} & A_{12} & A_{16} \\\\ \n",
    "A_{12} & A_{22} & A_{26} \\\\ \n",
    "A_{16} & A_{26} & A_{66} \\\\\n",
    "\\end{bmatrix} $$\n",
    "\n",
    "exhibiting:\n",
    "\n",
    "* **No Extension–shear coupling**:\n",
    "    * $A_{16} = A_{26} = 0$ for a symmetric, orthotropic laminate layup (ONLY in the 1-2 plane!)\n",
    "<!-------------------------------------------------------------------------------------------->\n",
    "\n",
    "The computed [$B_{compression}$] stiffness matrix:\n",
    "\n",
    "$$ [B] =\n",
    "\\begin{bmatrix} 0 & 0 & 0 \\\\ \n",
    "0 & 0 & 0 \\\\ \n",
    "0 & 0 & 0 \\\\\n",
    "\\end{bmatrix}  N $$\n",
    "\n",
    "Which is consistent with laminate theory for symmetric, orthotropic laminate layups, where the [B] matrix should take this form as the laminate should not exhibit out-of-plane extension-twist coupling (particularly out-of-plane buckling for compression loading case).\n",
    "<!-------------------------------------------------------------------------------------------->\n",
    "\n",
    "The computed [$D_{compression}$] stiffness matrix:\n",
    "\n",
    "$$ [D] =\n",
    "\\begin{bmatrix} 8.815 & 0.150 & 0 \\\\ \n",
    "0.150 & 0.561 & 0 \\\\ \n",
    "0 & 0 & 0.254 \\\\\n",
    "\\end{bmatrix}  N \\cdot m $$\n",
    "\n",
    "Which is consistent with laminate theory for symmetric, orthotropic laminate layups, where the [D] matrix should take the form:\n",
    "\n",
    "subject to:\n",
    "\n",
    "* **No Bending–twist coupling**:\n",
    "    * $D_{16} = D_{26} = 0$ for a symmetric, orthotropic laminate layups (ONLY in the 1-2 plane!)\n",
    "\n",
    "<!-------------------------------------------------------------------------------------------->\n",
    "\n",
    "The computed [$\\alpha$] compliance matrix:\n",
    "\n",
    "$$ [\\alpha] =\n",
    "\\begin{bmatrix} 9.880 & -2.643  & 0 \\\\ \n",
    "-2.643 & 155.185 & 0 \\\\ \n",
    "0 & 0 & 341.998 \\\\\n",
    "\\end{bmatrix}\n",
    "\\cdot 10^{-9}\n",
    "\\frac{m}{N}  $$\n",
    "<!-------------------------------------------------------------------------------------------->\n",
    "\n",
    "The computed [$\\beta$] compliance matrix:\n",
    "\n",
    "$$ [\\beta] =\n",
    "\\begin{bmatrix} 0 & 0  & 0 \\\\ \n",
    "0 & 0 & 0 \\\\ \n",
    "0 & 0 & 0 \\\\\n",
    "\\end{bmatrix}\n",
    "\\frac{1}{N}  $$\n",
    "<!-------------------------------------------------------------------------------------------->\n",
    "\n",
    "The computed [$\\delta$] compliance matrix::\n",
    "\n",
    "$$ [\\delta] =\n",
    "\\begin{bmatrix} 0.140 & -0.031 & 0 \\\\ \n",
    "-0.031 & 1.790 & 0 \\\\ \n",
    "0 & 0 & 3.945 \\\\\n",
    "\\end{bmatrix}\n",
    "\\frac{1}{N \\cdot m}  $$\n"
   ]
  },
  {
   "cell_type": "markdown",
   "metadata": {
    "slideshow": {
     "slide_type": "slide"
    }
   },
   "source": [
    "### 4.2.6  UD 90°, 8-Ply compression-loaded coupon"
   ]
  },
  {
   "cell_type": "code",
   "execution_count": 681,
   "metadata": {},
   "outputs": [],
   "source": [
    "%Test: quasi-fatigue (compression) loading of a symmetric, 8-ply UD 90° carbon fibre/epoxy laminate\n",
    "%Laminate type: Symmetrical\n",
    "\n",
    "%%---------------------------------Data inputs---------------------------------------\n",
    "\n",
    "%%Carbon fibre elastic properties (compression)\n",
    "Ef1 = 230e9;                %Fibre longitudinal compression modulus (Pa)\n",
    "Ef2 = 15e9;                   %Fibre transverse modulus (Pa)\n",
    "Vf = 0.55;                    %Fibre volume fraction\n",
    "Gf12 = 15e9;                  %Fibre longitudinal shear modulus (Pa)\n",
    "nuf = 0.2;                    %Fibre Poisson's ratio\n",
    "\n",
    "%%Epoxy matrix elastic properties\n",
    "Vm = 1 - Vf;                  %Matrix volume fraction\n",
    "Em1 = 4e9;                    %Matrix longitudinal modulus (Pa)\n",
    "Em2 = 4e9;                    %Matrix transverse modulus (Pa)\n",
    "Gm12 = 1.481e9;               %Matrix longitudinal shear modulus (Pa)\n",
    "num = 0.35;                   %Matrix Poisson's ratio\n",
    "\n",
    "%%Experimental composite properties (measured)\n",
    "%% Compression applied in 1 (fibre-oriented) direction\n",
    "E_Cmod90 = 6.099093e9;        %Compression modulus of elasticity from experiment (Pa)\n",
    "\n",
    "%%Build ply orientation (bottom to top of composite ply layup)\n",
    "%NOTES:\n",
    "%% 1. Code is only applicable for symmetric laminate designs\n",
    "%% 2. Code only accounts for 0°, ±30°, ±45°, ±60° and 90° fibre orientations\n",
    "%% 3. h = 2(o0 + o90 + o30 + o45 + o60) MUST follow\n",
    "%%\n",
    "%% symmetric ply layup convention:\n",
    "%% [0/o0/90/o90/30/o30/45/o45/60/o60]\n",
    "%% where:\n",
    "%% o0:  no. of 0° plies\n",
    "%% o90: no. of 90° plies\n",
    "%% o30: no. of ±30° plies\n",
    "%% o45: no. of ±45° plies\n",
    "%% o60: no. of ±60° plies\n",
    "\n",
    "%Define no. of each ply orietation for design laminate\n",
    "o0 = 0;\n",
    "o90 = 8;\n",
    "o30 = 0;\n",
    "o45 = 0;\n",
    "o60 = 0;\n",
    "\n",
    "%MATLAB has no simple function to add numeric values - store ply count in a vector\n",
    "ply_v = [o0 o90 o30 o45 o60];\n",
    "\n",
    "%Total number of plies in the laminate coupon\n",
    "nmp = sum(ply_v);\n",
    "\n",
    "%Ply orientatioms in radians for transform matrix calcs\n",
    "o0_rad = degtorad(0);\n",
    "o90_rad = degtorad(90);\n",
    "o30_rad = degtorad(30);\n",
    "o45_rad = degtorad(45);\n",
    "o60_rad = degtorad(60);\n",
    "\n",
    "%Define ply design details:\n",
    "tl = 2.02/1000;   %Measured avg. thickness of laminate coupons [m]\n",
    "np = 8;           %no. of ply layers\n",
    "t = t1/np;        %Avg. ply layer thickness [m]\n",
    "t0 =  t*o0;      %total thickness of 0° plies\n",
    "t90 = t*o90;      %total thickness of 90° plies\n",
    "t30 = t*o30;      %total thickness of 30° plies\n",
    "t45 = t*o45;      %total thickness of 45° plies\n",
    "t60 = t*o60;      %total thickness of 60° plies\n",
    "t_vec = [t0 t90 t30 t45 t60]; %Vector for ply thicknesses\n",
    "lt = sum(t_vec);  %total thickness of laminate (sanity check: lt == t1)\n",
    "w = 19.98;          %avg. coupon width [mm]\n",
    "Ww = w/1000;       %avg. coupon width [m]\n",
    "\n",
    "%Compute ply-layer compliance and stiffness constants\n",
    "if np ~= nmp | t1 ~= lt\n",
    "    error(\"User has mis-defined laminate ply layer design. Check design ply layer number.\\n\");\n",
    "    %break\n",
    "else\n",
    "    %%90° orientation orthotropic composite ply layers\n",
    "    %%----------------------------------------------------------------------------------------\n",
    "    %%Calculated engineering constants (with reference to principle axes)\n",
    "    E11_90C = ((Ef1*Vf) + (Em*Vm));                       %Modulus in 1-direction (in fibre direction)\n",
    "    E11_e90C = E_Cmod90;                                     %Experimentally-determined modulus\n",
    "    E22_90C = (Ef2*Em) / ((Vm*Ef2)+(Vf*Em));              %Modulus in 2-direction (⊥ to fibre direction)\n",
    "    nu12_90C = (Vm*num) + (Vf*nuf);                       %Poisson's ratio - contraction in the 2-direction (⊥ to fibre direction) \n",
    "                                                           % when an extension is applied in 1-direction (fibre direction)\n",
    "    G12_90C = (Gm*Gf)/((Vm*Gf)+(Vf*Gm));                 %Shear modulus in 2-direction (⊥ to fibre direction) on the plane whose \n",
    "                                                           % normal is in direction 1-direction (fibre direction)\n",
    "\n",
    "    %%Compliance matrix constants by rule-of-mixture\n",
    "    S11_90C = 1/E11_90C;\n",
    "    S12_90C = -(nu12_90C/E11_90C);\n",
    "    S21_90C = S12_90C;\n",
    "    S22_90C = 1/E22_90C;\n",
    "    S66_90C = 1/G12_90C;\n",
    "    \n",
    "    %%Compliance matrix constants from experimental data\n",
    "    S11e90C = 1/E11_e90C;\n",
    "    S12e90C = -(nu12_90C/E11_e90C);\n",
    "    S21e90C = S12e90C;\n",
    "    S22e90C = 1/E22_90C;\n",
    "    S66e90C = 1/G12_90C;\n",
    "\n",
    "    %Compute reduced stiffness matrix constants by rule-of-mixture\n",
    "    D_90C = 1-((E22_90C/E11_90C)*((nu12_90C)^2));\n",
    "    Q11_90C = E11_90C/D_90C;\n",
    "    Q12_90C = (nu12_90C*E22_90C)/D_90C;\n",
    "    Q21_90C = Q12_90C;\n",
    "    Q22_90C = E22_90C/D_90C;\n",
    "    Q66_90C = G12_90C;\n",
    "    \n",
    "    %%Compute reduced stiffness matrix constants from experimental data\n",
    "    D_e90C = 1-((E22_90C/E11_e90C)*((nu12_90C)^2));\n",
    "    Q11e90C = E11_e90C/D_e90C;\n",
    "    Q12e90C = (nu12_90C*E22_90C)/D_e90C;\n",
    "    Q21e90C = Q12e90C;\n",
    "    Q22e90C = E22_90C/D_e90C;\n",
    "    Q66e90C = G12_90C;\n",
    "\n",
    "    %Compile compliance matrix\n",
    "    S90C = [S11_90C S12_90C 0; S21_90C S22_90C 0; 0 0 S66_90C];\n",
    "    S90eC = [S11e90C S12e90C 0; S21e90C S22e90C 0; 0 0 S66e90C];\n",
    "    %Compile stiffness matrix\n",
    "    Q90C = [Q11_90C Q12_90C 0; Q21_90C Q22_90C 0; 0 0 Q66_90C];\n",
    "    Q90eC = [Q11e90C Q12e90C 0; Q21e90C Q22e90C 0; 0 0 Q66e90C];\n",
    "    %Sanity check\n",
    "    Q90C_valid = inv(S90C);\n",
    "    Q90eC_valid = inv(S90eC);\n",
    "\n",
    "    %Build the stress & strain transformation matrices\n",
    "    %% transformations are vital in analyses of stress and strain, both because they are needed\n",
    "    %% to compute critical values of these entities and also because the tensorial nature of stress and\n",
    "    %% strain is most clearly seen in their transformation properties. Other entities, such as moment of\n",
    "    %% inertia and curvature, also transform in a manner similar to stress and strain.\n",
    "    c90C = cos(o90_rad);\n",
    "    ss90C = sin(o90_rad);\n",
    "    %Stress transformation matrix\n",
    "    Tsig90C = [c90C^2 ss90C^2 2*c90C*ss90C; ss90C^2 c90C^2 -2*c90C*ss90C; -c90C*ss90C c90C*ss90C ((c90C^2)-(ss90C^2))];\n",
    "    %Strain transformation matrix\n",
    "    Teps90C = [c90C^2 ss90C^2 c90C*ss90C; ss90C^2 c90C^2 -c90C*ss90C; -2*c90C*ss90C 2*c90C*ss90C ((c90C^2)-(ss90C^2))];\n",
    "    %Transformed (reduced) stiffness matrix\n",
    "    Qb90C = (inv(Tsig90C))*Q90C*Teps90C;\n",
    "    Qb90eC = (inv(Tsig90C))*Q90eC*Teps90C;\n",
    "end\n",
    "\n",
    "\n",
    "%%LAMINATE response to quasi-fatigue loading\n",
    "%%----------------------------------------------------------------------------------------\n",
    "%Define reference axis, z1: the mid-plane of the symmetric laminate layup\n",
    "z1 = 0;\n",
    "\n",
    "%Define lower edge of 0° laminate section\n",
    "z0 = z1-(lt/2);\n",
    "\n",
    "%Define upper edge of 0° laminate section\n",
    "\n",
    "z2 = z1+(lt/2);\n",
    "\n",
    "%Define A, B and D matrix z multiplicatives\n",
    "zA1 = z1-z0;\n",
    "zA2 = z2-z1;\n",
    "zB1 = ((z1^2)-(z0^2))/2;\n",
    "zB2 = ((z2^2)-(z1^2))/2;\n",
    "zD1 = ((z1^3)-(z0^3))/3;\n",
    "zD2 = ((z2^3)-(z1^3))/3;\n",
    "\n",
    "%Compute the A, B and D matrices - stiffness matrices of the laminate\n",
    "% These matrices describe the in-plane forces & moments on the composite laminate\n",
    "A_UD908C = (Qb90C*zA1) + (Qb90C*zA2);\n",
    "B_UD908C = (Qb90C*zB1) + (Qb90C*zB2);\n",
    "D_UD908C = (Qb90C*zD1) + (Qb90C*zD2);\n",
    "\n",
    "A_UD908C_e = (Qb90eC*zA1) + (Qb90eC*zA2);\n",
    "B_UD908C_e = (Qb90eC*zB1) + (Qb90eC*zB2);\n",
    "D_UD908C_e = (Qb90eC*zD1) + (Qb90eC*zD2);\n",
    "\n",
    "%Compile the global in-plane forces/moments response matrix\n",
    "IPFM_90C = [A_UD908C B_UD908C; B_UD908C D_UD908C];\n",
    "\n",
    "IPFMe_90C = [A_UD908C_e B_UD908C_e; B_UD908C_e D_UD908C_e];\n",
    "\n",
    "%Compute the matrix that describes the strain and curvatures imposed on the laminate\n",
    "IPC90_inv = inv(IPFM_90C);\n",
    "\n",
    "IPC90_e_inv = inv(IPFMe_90C);\n",
    "\n",
    "aA_UD908C = IPC90_inv(1:3,1:3);\n",
    "bB_UD908C = IPC90_inv(4:6,1:3);\n",
    "dD_UD908C = IPC90_inv(4:6,4:6);\n",
    "\n",
    "aA_UD908C_e = IPC90_e_inv(1:3,1:3);\n",
    "bB_UD908C_e = IPC90_e_inv(4:6,1:3);\n",
    "dD_UD908C_e = IPC90_e_inv(4:6,4:6);\n",
    "\n",
    "%%Computation output:\n",
    "%%----------------------------------------------------------------------------------------\n",
    "% fprintf('Predicted elastic constant values:\\n');\n",
    "% fprintf('----------------------------------\\n');\n",
    "% fprintf('E11 modulus: %.3f GPa\\n', E11/1e9);\n",
    "% fprintf('E22 modulus: %.3f GPa\\n', E22/1e9);\n",
    "% fprintf('nu12: %.3f\\n', nu12);\n",
    "% fprintf('G12: %.3f GPa\\n', G12/1e9);\n",
    "% fprintf(' \\n');\n",
    "% fprintf('Empirically-determined E11 modulus: %.3f GPa\\n', E_mod/1e9);\n"
   ]
  },
  {
   "cell_type": "markdown",
   "metadata": {},
   "source": [
    "#### 4.2.6.1 Matrix calculations output"
   ]
  },
  {
   "cell_type": "code",
   "execution_count": 682,
   "metadata": {
    "slideshow": {
     "slide_type": "fragment"
    }
   },
   "outputs": [
    {
     "name": "stdout",
     "output_type": "stream",
     "text": [
      "UD 90 deg, 8-Ply carbon fibre/epoxy coupon - compression quasi-fatigue loading - Computation output: \n",
      " \n",
      "Laminate stiffness matrices\n",
      "----------------------------------\n",
      "[A], units: N/m = \n",
      "      6.959796413106501e+06     1.861745540505989e+06     4.592081723208229e-11\n",
      "     1.861745540505989e+06     6.719091792085352e+06    -6.065972441575863e-11\n",
      "     4.592081723208229e-11    -6.065972441575863e-11     2.923997365055993e+06\n",
      " \n",
      "[B], units: N = \n",
      "      0     0     0\n",
      "     0     0     0\n",
      "     0     0     0\n",
      " \n",
      "[D], units: N*m = \n",
      "      6.034143490163337e-01     1.614133383618692e-01     3.981334854021536e-18\n",
      "     1.614133383618692e-01     5.825452583738001e-01    -5.259198106846274e-18\n",
      "     3.981334854021536e-18    -5.259198106846274e-18     2.535105715503547e-01\n",
      " \n",
      "Laminate compliance matrices\n",
      "----------------------------------\n",
      "[a], units: m/N = \n",
      "      1.551845963610669e-07    -4.299900033673601e-08    -3.329179127739784e-24\n",
      "    -4.299900033673601e-08     1.607439264924711e-07     4.010000712822539e-24\n",
      "    -3.329179127739784e-24     4.010000712822539e-24     3.419975722108253e-07\n",
      " \n",
      "[b], units: 1/N = \n",
      "      0     0     0\n",
      "     0     0     0\n",
      "     0     0     0\n",
      " \n",
      "[d], units: 1/(N*m) = \n",
      "      1.789903072215305e+00    -4.959515609773472e-01    -3.839883653679103e-17\n",
      "    -4.959515609773472e-01     1.854024527018121e+00     4.625144997488510e-17\n",
      "    -3.839883653679103e-17     4.625144997488510e-17     3.944608676018746e+00\n",
      " \n"
     ]
    }
   ],
   "source": [
    "format long e\n",
    "%%Computation output:\n",
    "fprintf('UD 90 deg, 8-Ply carbon fibre/epoxy coupon - compression quasi-fatigue loading - Computation output: \\n')\n",
    "disp(' ')\n",
    "%%----------------------------------------------------------------------------------------\n",
    "fprintf('Laminate stiffness matrices\\n');\n",
    "fprintf('----------------------------------\\n');\n",
    "fprintf('[A], units: N/m = \\n');\n",
    "fprintf(' ');\n",
    "disp(A_UD908C_e)\n",
    "disp(' ')\n",
    "fprintf('[B], units: N = \\n');\n",
    "fprintf(' ');\n",
    "disp(B_UD908C_e)\n",
    "disp(' ')\n",
    "fprintf('[D], units: N*m = \\n');\n",
    "fprintf(' ');\n",
    "disp(D_UD908C_e)\n",
    "disp(' ')\n",
    "fprintf('Laminate compliance matrices\\n');\n",
    "fprintf('----------------------------------\\n');\n",
    "fprintf('[a], units: m/N = \\n');\n",
    "fprintf(' ');\n",
    "disp(aA_UD908C_e)\n",
    "disp(' ')\n",
    "fprintf('[b], units: 1/N = \\n');\n",
    "fprintf(' ');\n",
    "disp(bB_UD908C_e)\n",
    "disp(' ')\n",
    "fprintf('[d], units: 1/(N*m) = \\n');\n",
    "fprintf(' ');\n",
    "disp(dD_UD908C_e)\n",
    "disp(' ')"
   ]
  },
  {
   "cell_type": "markdown",
   "metadata": {},
   "source": [
    "#### 4.2.6.2 Computation output summary:"
   ]
  },
  {
   "cell_type": "markdown",
   "metadata": {
    "slideshow": {
     "slide_type": "subslide"
    }
   },
   "source": [
    "<!--------------------------A stiffness matrix------------------------------------------->\n",
    "The computed [$A_{compression}$] stiffness matrix for the UD 90°, 8-Ply, compression-loaded coupon:\n",
    "\n",
    "$$ [A] =\n",
    "\\begin{bmatrix} 695.980 & 186.175 & 0 \\\\ \n",
    "186.175 & 671.909 & 0 \\\\ \n",
    "0 & 0 & 292.400 \\\\\n",
    "\\end{bmatrix} \n",
    "\\cdot\n",
    "10^{6} \\frac{N}{m} $$\n",
    "\n",
    "Which is consistent with laminate theory for symmetric, orthotropic laminate layups, where the [A] matrix should be of the form:\n",
    "\n",
    "$$ [A] =\n",
    "\\begin{bmatrix} A_{11} & A_{12} & A_{16} \\\\ \n",
    "A_{12} & A_{22} & A_{26} \\\\ \n",
    "A_{16} & A_{26} & A_{66} \\\\\n",
    "\\end{bmatrix} $$\n",
    "\n",
    "exhibiting:\n",
    "\n",
    "* **No Extension–shear coupling**:\n",
    "    * $A_{16} = A_{26} = 0$ for a symmetric, orthotropic laminate layup (ONLY in the 1-2 plane!)\n",
    "<!-------------------------------------------------------------------------------------------->\n",
    "\n",
    "The computed [$B_{compression}$] stiffness matrix:\n",
    "\n",
    "$$ [B] =\n",
    "\\begin{bmatrix} 0 & 0 & 0 \\\\ \n",
    "0 & 0 & 0 \\\\ \n",
    "0 & 0 & 0 \\\\\n",
    "\\end{bmatrix}  N $$\n",
    "\n",
    "Which is consistent with laminate theory for symmetric, orthotropic laminate layups, where the [B] matrix should take this form as the laminate should not exhibit out-of-plane extension-twist coupling (particularly out-of-plane buckling for compression loading case).\n",
    "<!-------------------------------------------------------------------------------------------->\n",
    "\n",
    "The computed [$D_{compression}$] stiffness matrix:\n",
    "\n",
    "$$ [D] =\n",
    "\\begin{bmatrix} 0.603 & 0.161 & 0 \\\\ \n",
    "0.161 & 0.583 & 0 \\\\ \n",
    "0 & 0 & 0.254 \\\\\n",
    "\\end{bmatrix}  N \\cdot m $$\n",
    "\n",
    "Which is consistent with laminate theory for symmetric, orthotropic laminate layups, where the [D] matrix should take the form:\n",
    "\n",
    "subject to:\n",
    "\n",
    "* **No Bending–twist coupling**:\n",
    "    * $D_{16} = D_{26} = 0$ for a symmetric, orthotropic laminate layups (ONLY in the 1-2 plane!)\n",
    "\n",
    "<!-------------------------------------------------------------------------------------------->\n",
    "\n",
    "The computed [$\\alpha$] compliance matrix:\n",
    "\n",
    "$$ [\\alpha] =\n",
    "\\begin{bmatrix} 155.185 & -42.999  & 0 \\\\ \n",
    "-42.999 & 160.744 & 0 \\\\ \n",
    "0 & 0 & 341.998 \\\\\n",
    "\\end{bmatrix}\n",
    "\\cdot 10^{-9}\n",
    "\\frac{m}{N}  $$\n",
    "<!-------------------------------------------------------------------------------------------->\n",
    "\n",
    "The computed [$\\beta$] compliance matrix:\n",
    "\n",
    "$$ [\\beta] =\n",
    "\\begin{bmatrix} 0 & 0  & 0 \\\\ \n",
    "0 & 0 & 0 \\\\ \n",
    "0 & 0 & 0 \\\\\n",
    "\\end{bmatrix}\n",
    "\\frac{1}{N}  $$\n",
    "<!-------------------------------------------------------------------------------------------->\n",
    "\n",
    "The computed [$\\delta$] compliance matrix::\n",
    "\n",
    "$$ [\\delta] =\n",
    "\\begin{bmatrix} 1.798 & -0.496 & 0 \\\\ \n",
    "-0.496 & 1.854 & 0 \\\\ \n",
    "0 & 0 & 3.945 \\\\\n",
    "\\end{bmatrix}\n",
    "\\frac{1}{N \\cdot m}  $$\n"
   ]
  }
 ],
 "metadata": {
  "celltoolbar": "Slideshow",
  "hide_input": false,
  "kernelspec": {
   "display_name": "Matlab",
   "language": "matlab",
   "name": "matlab"
  },
  "language_info": {
   "codemirror_mode": "octave",
   "file_extension": ".m",
   "help_links": [
    {
     "text": "MetaKernel Magics",
     "url": "https://metakernel.readthedocs.io/en/latest/source/README.html"
    }
   ],
   "mimetype": "text/x-octave",
   "name": "matlab",
   "version": "0.16.4"
  },
  "latex_envs": {
   "LaTeX_envs_menu_present": true,
   "autoclose": false,
   "autocomplete": true,
   "bibliofile": "biblio.bib",
   "cite_by": "apalike",
   "current_citInitial": 1,
   "eqLabelWithNumbers": true,
   "eqNumInitial": 1,
   "hotkeys": {
    "equation": "Ctrl-E",
    "itemize": "Ctrl-I"
   },
   "labels_anchors": false,
   "latex_user_defs": false,
   "report_style_numbering": false,
   "user_envs_cfg": false
  },
  "toc": {
   "base_numbering": 1,
   "nav_menu": {},
   "number_sections": false,
   "sideBar": true,
   "skip_h1_title": false,
   "title_cell": "Table of Contents",
   "title_sidebar": "Contents",
   "toc_cell": false,
   "toc_position": {},
   "toc_section_display": true,
   "toc_window_display": true
  }
 },
 "nbformat": 4,
 "nbformat_minor": 2
}
